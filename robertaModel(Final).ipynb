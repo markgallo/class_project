{
  "nbformat": 4,
  "nbformat_minor": 0,
  "metadata": {
    "accelerator": "GPU",
    "colab": {
      "name": "robertaModel(Final).ipynb",
      "provenance": [],
      "collapsed_sections": [],
      "toc_visible": true,
      "machine_shape": "hm"
    },
    "kernelspec": {
      "display_name": "Python 3",
      "language": "python",
      "name": "python3"
    },
    "language_info": {
      "codemirror_mode": {
        "name": "ipython",
        "version": 3
      },
      "file_extension": ".py",
      "mimetype": "text/x-python",
      "name": "python",
      "nbconvert_exporter": "python",
      "pygments_lexer": "ipython3",
      "version": "3.7.3"
    },
    "widgets": {
      "application/vnd.jupyter.widget-state+json": {
        "2d2a19033159436088e012fb6a5175f7": {
          "model_module": "@jupyter-widgets/controls",
          "model_name": "HBoxModel",
          "state": {
            "_view_name": "HBoxView",
            "_dom_classes": [],
            "_model_name": "HBoxModel",
            "_view_module": "@jupyter-widgets/controls",
            "_model_module_version": "1.5.0",
            "_view_count": null,
            "_view_module_version": "1.5.0",
            "box_style": "",
            "layout": "IPY_MODEL_1208726c82714686866cc122a3da723d",
            "_model_module": "@jupyter-widgets/controls",
            "children": [
              "IPY_MODEL_c2ef9ae564a34194a0ed5672339c1a49",
              "IPY_MODEL_9704d1aa759846b0bf48dc417d2fc3e8"
            ]
          }
        },
        "1208726c82714686866cc122a3da723d": {
          "model_module": "@jupyter-widgets/base",
          "model_name": "LayoutModel",
          "state": {
            "_view_name": "LayoutView",
            "grid_template_rows": null,
            "right": null,
            "justify_content": null,
            "_view_module": "@jupyter-widgets/base",
            "overflow": null,
            "_model_module_version": "1.2.0",
            "_view_count": null,
            "flex_flow": null,
            "width": null,
            "min_width": null,
            "border": null,
            "align_items": null,
            "bottom": null,
            "_model_module": "@jupyter-widgets/base",
            "top": null,
            "grid_column": null,
            "overflow_y": null,
            "overflow_x": null,
            "grid_auto_flow": null,
            "grid_area": null,
            "grid_template_columns": null,
            "flex": null,
            "_model_name": "LayoutModel",
            "justify_items": null,
            "grid_row": null,
            "max_height": null,
            "align_content": null,
            "visibility": null,
            "align_self": null,
            "height": null,
            "min_height": null,
            "padding": null,
            "grid_auto_rows": null,
            "grid_gap": null,
            "max_width": null,
            "order": null,
            "_view_module_version": "1.2.0",
            "grid_template_areas": null,
            "object_position": null,
            "object_fit": null,
            "grid_auto_columns": null,
            "margin": null,
            "display": null,
            "left": null
          }
        },
        "c2ef9ae564a34194a0ed5672339c1a49": {
          "model_module": "@jupyter-widgets/controls",
          "model_name": "IntProgressModel",
          "state": {
            "_view_name": "ProgressView",
            "style": "IPY_MODEL_99b0a8a124c8475c87338691571ca799",
            "_dom_classes": [],
            "description": "",
            "_model_name": "IntProgressModel",
            "bar_style": "success",
            "max": 2,
            "_view_module": "@jupyter-widgets/controls",
            "_model_module_version": "1.5.0",
            "value": 2,
            "_view_count": null,
            "_view_module_version": "1.5.0",
            "orientation": "horizontal",
            "min": 0,
            "description_tooltip": null,
            "_model_module": "@jupyter-widgets/controls",
            "layout": "IPY_MODEL_b4849ce71ae64b728a356bdf9f67fa83"
          }
        },
        "9704d1aa759846b0bf48dc417d2fc3e8": {
          "model_module": "@jupyter-widgets/controls",
          "model_name": "HTMLModel",
          "state": {
            "_view_name": "HTMLView",
            "style": "IPY_MODEL_f1d35695968745be96b4320a1e25457d",
            "_dom_classes": [],
            "description": "",
            "_model_name": "HTMLModel",
            "placeholder": "​",
            "_view_module": "@jupyter-widgets/controls",
            "_model_module_version": "1.5.0",
            "value": "100% 2/2 [3:42:39&lt;00:00, 6656.81s/it]",
            "_view_count": null,
            "_view_module_version": "1.5.0",
            "description_tooltip": null,
            "_model_module": "@jupyter-widgets/controls",
            "layout": "IPY_MODEL_defd1ca00b9746ba857bec0540b7f43f"
          }
        },
        "99b0a8a124c8475c87338691571ca799": {
          "model_module": "@jupyter-widgets/controls",
          "model_name": "ProgressStyleModel",
          "state": {
            "_view_name": "StyleView",
            "_model_name": "ProgressStyleModel",
            "description_width": "",
            "_view_module": "@jupyter-widgets/base",
            "_model_module_version": "1.5.0",
            "_view_count": null,
            "_view_module_version": "1.2.0",
            "bar_color": null,
            "_model_module": "@jupyter-widgets/controls"
          }
        },
        "b4849ce71ae64b728a356bdf9f67fa83": {
          "model_module": "@jupyter-widgets/base",
          "model_name": "LayoutModel",
          "state": {
            "_view_name": "LayoutView",
            "grid_template_rows": null,
            "right": null,
            "justify_content": null,
            "_view_module": "@jupyter-widgets/base",
            "overflow": null,
            "_model_module_version": "1.2.0",
            "_view_count": null,
            "flex_flow": null,
            "width": null,
            "min_width": null,
            "border": null,
            "align_items": null,
            "bottom": null,
            "_model_module": "@jupyter-widgets/base",
            "top": null,
            "grid_column": null,
            "overflow_y": null,
            "overflow_x": null,
            "grid_auto_flow": null,
            "grid_area": null,
            "grid_template_columns": null,
            "flex": null,
            "_model_name": "LayoutModel",
            "justify_items": null,
            "grid_row": null,
            "max_height": null,
            "align_content": null,
            "visibility": null,
            "align_self": null,
            "height": null,
            "min_height": null,
            "padding": null,
            "grid_auto_rows": null,
            "grid_gap": null,
            "max_width": null,
            "order": null,
            "_view_module_version": "1.2.0",
            "grid_template_areas": null,
            "object_position": null,
            "object_fit": null,
            "grid_auto_columns": null,
            "margin": null,
            "display": null,
            "left": null
          }
        },
        "f1d35695968745be96b4320a1e25457d": {
          "model_module": "@jupyter-widgets/controls",
          "model_name": "DescriptionStyleModel",
          "state": {
            "_view_name": "StyleView",
            "_model_name": "DescriptionStyleModel",
            "description_width": "",
            "_view_module": "@jupyter-widgets/base",
            "_model_module_version": "1.5.0",
            "_view_count": null,
            "_view_module_version": "1.2.0",
            "_model_module": "@jupyter-widgets/controls"
          }
        },
        "defd1ca00b9746ba857bec0540b7f43f": {
          "model_module": "@jupyter-widgets/base",
          "model_name": "LayoutModel",
          "state": {
            "_view_name": "LayoutView",
            "grid_template_rows": null,
            "right": null,
            "justify_content": null,
            "_view_module": "@jupyter-widgets/base",
            "overflow": null,
            "_model_module_version": "1.2.0",
            "_view_count": null,
            "flex_flow": null,
            "width": null,
            "min_width": null,
            "border": null,
            "align_items": null,
            "bottom": null,
            "_model_module": "@jupyter-widgets/base",
            "top": null,
            "grid_column": null,
            "overflow_y": null,
            "overflow_x": null,
            "grid_auto_flow": null,
            "grid_area": null,
            "grid_template_columns": null,
            "flex": null,
            "_model_name": "LayoutModel",
            "justify_items": null,
            "grid_row": null,
            "max_height": null,
            "align_content": null,
            "visibility": null,
            "align_self": null,
            "height": null,
            "min_height": null,
            "padding": null,
            "grid_auto_rows": null,
            "grid_gap": null,
            "max_width": null,
            "order": null,
            "_view_module_version": "1.2.0",
            "grid_template_areas": null,
            "object_position": null,
            "object_fit": null,
            "grid_auto_columns": null,
            "margin": null,
            "display": null,
            "left": null
          }
        }
      }
    }
  },
  "cells": [
    {
      "cell_type": "markdown",
      "metadata": {
        "id": "MIX6ZFns87Yv",
        "colab_type": "text"
      },
      "source": [
        "# SEE ROBERTA NEAR THE BOTTOM OF THIS PYTHON NOTEBOOK "
      ]
    },
    {
      "cell_type": "code",
      "metadata": {
        "colab_type": "code",
        "id": "MrIwJ5QDz-e9",
        "outputId": "4779dac6-bdb8-4d82-b95e-7cd81b0de68d",
        "colab": {
          "base_uri": "https://localhost:8080/",
          "height": 649
        }
      },
      "source": [
        "!pip install pytorch-transformers"
      ],
      "execution_count": 0,
      "outputs": [
        {
          "output_type": "stream",
          "text": [
            "Collecting pytorch-transformers\n",
            "\u001b[?25l  Downloading https://files.pythonhosted.org/packages/a3/b7/d3d18008a67e0b968d1ab93ad444fc05699403fa662f634b2f2c318a508b/pytorch_transformers-1.2.0-py3-none-any.whl (176kB)\n",
            "\u001b[K     |████████████████████████████████| 184kB 2.8MB/s \n",
            "\u001b[?25hRequirement already satisfied: boto3 in /usr/local/lib/python3.6/dist-packages (from pytorch-transformers) (1.10.27)\n",
            "Requirement already satisfied: numpy in /usr/local/lib/python3.6/dist-packages (from pytorch-transformers) (1.17.4)\n",
            "Collecting sentencepiece\n",
            "\u001b[?25l  Downloading https://files.pythonhosted.org/packages/14/3d/efb655a670b98f62ec32d66954e1109f403db4d937c50d779a75b9763a29/sentencepiece-0.1.83-cp36-cp36m-manylinux1_x86_64.whl (1.0MB)\n",
            "\u001b[K     |████████████████████████████████| 1.0MB 67.9MB/s \n",
            "\u001b[?25hCollecting sacremoses\n",
            "\u001b[?25l  Downloading https://files.pythonhosted.org/packages/1f/8e/ed5364a06a9ba720fddd9820155cc57300d28f5f43a6fd7b7e817177e642/sacremoses-0.0.35.tar.gz (859kB)\n",
            "\u001b[K     |████████████████████████████████| 860kB 24.6MB/s \n",
            "\u001b[?25hRequirement already satisfied: tqdm in /usr/local/lib/python3.6/dist-packages (from pytorch-transformers) (4.28.1)\n",
            "Requirement already satisfied: requests in /usr/local/lib/python3.6/dist-packages (from pytorch-transformers) (2.21.0)\n",
            "Collecting regex\n",
            "\u001b[?25l  Downloading https://files.pythonhosted.org/packages/e3/8e/cbf2295643d7265e7883326fb4654e643bfc93b3a8a8274d8010a39d8804/regex-2019.11.1-cp36-cp36m-manylinux1_x86_64.whl (643kB)\n",
            "\u001b[K     |████████████████████████████████| 645kB 45.3MB/s \n",
            "\u001b[?25hRequirement already satisfied: torch>=1.0.0 in /usr/local/lib/python3.6/dist-packages (from pytorch-transformers) (1.3.1)\n",
            "Requirement already satisfied: jmespath<1.0.0,>=0.7.1 in /usr/local/lib/python3.6/dist-packages (from boto3->pytorch-transformers) (0.9.4)\n",
            "Requirement already satisfied: botocore<1.14.0,>=1.13.27 in /usr/local/lib/python3.6/dist-packages (from boto3->pytorch-transformers) (1.13.27)\n",
            "Requirement already satisfied: s3transfer<0.3.0,>=0.2.0 in /usr/local/lib/python3.6/dist-packages (from boto3->pytorch-transformers) (0.2.1)\n",
            "Requirement already satisfied: six in /usr/local/lib/python3.6/dist-packages (from sacremoses->pytorch-transformers) (1.12.0)\n",
            "Requirement already satisfied: click in /usr/local/lib/python3.6/dist-packages (from sacremoses->pytorch-transformers) (7.0)\n",
            "Requirement already satisfied: joblib in /usr/local/lib/python3.6/dist-packages (from sacremoses->pytorch-transformers) (0.14.0)\n",
            "Requirement already satisfied: urllib3<1.25,>=1.21.1 in /usr/local/lib/python3.6/dist-packages (from requests->pytorch-transformers) (1.24.3)\n",
            "Requirement already satisfied: certifi>=2017.4.17 in /usr/local/lib/python3.6/dist-packages (from requests->pytorch-transformers) (2019.9.11)\n",
            "Requirement already satisfied: chardet<3.1.0,>=3.0.2 in /usr/local/lib/python3.6/dist-packages (from requests->pytorch-transformers) (3.0.4)\n",
            "Requirement already satisfied: idna<2.9,>=2.5 in /usr/local/lib/python3.6/dist-packages (from requests->pytorch-transformers) (2.8)\n",
            "Requirement already satisfied: docutils<0.16,>=0.10 in /usr/local/lib/python3.6/dist-packages (from botocore<1.14.0,>=1.13.27->boto3->pytorch-transformers) (0.15.2)\n",
            "Requirement already satisfied: python-dateutil<2.8.1,>=2.1; python_version >= \"2.7\" in /usr/local/lib/python3.6/dist-packages (from botocore<1.14.0,>=1.13.27->boto3->pytorch-transformers) (2.6.1)\n",
            "Building wheels for collected packages: sacremoses\n",
            "  Building wheel for sacremoses (setup.py) ... \u001b[?25l\u001b[?25hdone\n",
            "  Created wheel for sacremoses: filename=sacremoses-0.0.35-cp36-none-any.whl size=883999 sha256=0d2498fedb1ba3cd1cc0096694f6424e8181b1da188d3f59cdc7d66fc965b2f3\n",
            "  Stored in directory: /root/.cache/pip/wheels/63/2a/db/63e2909042c634ef551d0d9ac825b2b0b32dede4a6d87ddc94\n",
            "Successfully built sacremoses\n",
            "Installing collected packages: sentencepiece, sacremoses, regex, pytorch-transformers\n",
            "Successfully installed pytorch-transformers-1.2.0 regex-2019.11.1 sacremoses-0.0.35 sentencepiece-0.1.83\n"
          ],
          "name": "stdout"
        }
      ]
    },
    {
      "cell_type": "code",
      "metadata": {
        "colab_type": "code",
        "id": "0YLoS0hWz-ch",
        "outputId": "70384f70-f6d3-4995-8429-2c667aa3390f",
        "colab": {
          "base_uri": "https://localhost:8080/",
          "height": 34
        }
      },
      "source": [
        "%%writefile utils.py \n",
        "\n",
        "# coding=utf-8\n",
        "# Copyright 2018 The Google AI Language Team Authors and The HuggingFace Inc. team.\n",
        "# Copyright (c) 2018, NVIDIA CORPORATION.  All rights reserved.\n",
        "#\n",
        "# Licensed under the Apache License, Version 2.0 (the \"License\");\n",
        "# you may not use this file except in compliance with the License.\n",
        "# You may obtain a copy of the License at\n",
        "#\n",
        "#     http://www.apache.org/licenses/LICENSE-2.0\n",
        "#\n",
        "# Unless required by applicable law or agreed to in writing, software\n",
        "# distributed under the License is distributed on an \"AS IS\" BASIS,\n",
        "# WITHOUT WARRANTIES OR CONDITIONS OF ANY KIND, either express or implied.\n",
        "# See the License for the specific language governing permissions and\n",
        "# limitations under the License.\n",
        "\"\"\" BERT classification fine-tuning: utilities to work with GLUE tasks \"\"\"\n",
        "\n",
        "from __future__ import absolute_import, division, print_function\n",
        "\n",
        "import csv\n",
        "import logging\n",
        "import os\n",
        "import sys\n",
        "from io import open\n",
        "\n",
        "from scipy.stats import pearsonr, spearmanr\n",
        "from sklearn.metrics import matthews_corrcoef, f1_score\n",
        "\n",
        "from multiprocessing import Pool, cpu_count\n",
        "from tqdm import tqdm\n",
        "\n",
        "logger = logging.getLogger(__name__)\n",
        "csv.field_size_limit(2147483647)\n",
        "\n",
        "class InputExample(object):\n",
        "    \"\"\"A single training/test example for simple sequence classification.\"\"\"\n",
        "\n",
        "    def __init__(self, guid, text_a, text_b=None, label=None):\n",
        "        \"\"\"Constructs a InputExample.\n",
        "\n",
        "        Args:\n",
        "            guid: Unique id for the example.\n",
        "            text_a: string. The untokenized text of the first sequence. For single\n",
        "            sequence tasks, only this sequence must be specified.\n",
        "            text_b: (Optional) string. The untokenized text of the second sequence.\n",
        "            Only must be specified for sequence pair tasks.\n",
        "            label: (Optional) string. The label of the example. This should be\n",
        "            specified for train and dev examples, but not for test examples.\n",
        "        \"\"\"\n",
        "        self.guid = guid\n",
        "        self.text_a = text_a\n",
        "        self.text_b = text_b\n",
        "        self.label = label\n",
        "\n",
        "\n",
        "class InputFeatures(object):\n",
        "    \"\"\"A single set of features of data.\"\"\"\n",
        "\n",
        "    def __init__(self, input_ids, input_mask, segment_ids, label_id):\n",
        "        self.input_ids = input_ids\n",
        "        self.input_mask = input_mask\n",
        "        self.segment_ids = segment_ids\n",
        "        self.label_id = label_id\n",
        "\n",
        "\n",
        "class DataProcessor(object):\n",
        "    \"\"\"Base class for data converters for sequence classification data sets.\"\"\"\n",
        "\n",
        "    def get_train_examples(self, data_dir):\n",
        "        \"\"\"Gets a collection of `InputExample`s for the train set.\"\"\"\n",
        "        raise NotImplementedError()\n",
        "\n",
        "    def get_dev_examples(self, data_dir):\n",
        "        \"\"\"Gets a collection of `InputExample`s for the dev set.\"\"\"\n",
        "        raise NotImplementedError()\n",
        "\n",
        "    def get_labels(self):\n",
        "        \"\"\"Gets the list of labels for this data set.\"\"\"\n",
        "        raise NotImplementedError()\n",
        "\n",
        "    @classmethod\n",
        "    def _read_tsv(cls, input_file, quotechar=None):\n",
        "        \"\"\"Reads a tab separated value file.\"\"\"\n",
        "        with open(input_file, \"r\", encoding=\"utf-8-sig\") as f:\n",
        "            reader = csv.reader(f, delimiter=\"\\t\", quotechar=quotechar)\n",
        "            lines = []\n",
        "            for line in reader:\n",
        "                if sys.version_info[0] == 2:\n",
        "                    line = list(unicode(cell, 'utf-8') for cell in line)\n",
        "                lines.append(line)\n",
        "            return lines\n",
        "\n",
        "\n",
        "class BinaryProcessor(DataProcessor):\n",
        "    \"\"\"Processor for the binary data sets\"\"\"\n",
        "\n",
        "    def get_train_examples(self, data_dir):\n",
        "        \"\"\"See base class.\"\"\"\n",
        "        return self._create_examples(\n",
        "            self._read_tsv(os.path.join(data_dir, \"train.tsv\")), \"train\")\n",
        "\n",
        "    def get_dev_examples(self, data_dir):\n",
        "        \"\"\"See base class.\"\"\"\n",
        "        return self._create_examples(\n",
        "            self._read_tsv(os.path.join(data_dir, \"dev.tsv\")), \"dev\")\n",
        "\n",
        "    def get_labels(self):\n",
        "        \"\"\"See base class.\"\"\"\n",
        "        return [str(x) for x in range(19)]\n",
        "\n",
        "    def _create_examples(self, lines, set_type):\n",
        "        \"\"\"Creates examples for the training and dev sets.\"\"\"\n",
        "        examples = []\n",
        "        for (i, line) in enumerate(lines):\n",
        "            guid = \"%s-%s\" % (set_type, i)\n",
        "            text_a = line[3]\n",
        "            label = line[1]\n",
        "            examples.append(\n",
        "                InputExample(guid=guid, text_a=text_a, text_b=None, label=label))\n",
        "        return examples\n",
        "\n",
        "\n",
        "def convert_example_to_feature(example_row, pad_token=0,\n",
        "sequence_a_segment_id=0, sequence_b_segment_id=1,\n",
        "cls_token_segment_id=1, pad_token_segment_id=0,\n",
        "mask_padding_with_zero=True):\n",
        "    example, label_map, max_seq_length, tokenizer, output_mode, cls_token_at_end, cls_token, sep_token, cls_token_segment_id, pad_on_left, pad_token_segment_id = example_row\n",
        "\n",
        "    tokens_a = tokenizer.tokenize(example.text_a)\n",
        "\n",
        "    tokens_b = None\n",
        "    if example.text_b:\n",
        "        tokens_b = tokenizer.tokenize(example.text_b)\n",
        "        # Modifies `tokens_a` and `tokens_b` in place so that the total\n",
        "        # length is less than the specified length.\n",
        "        # Account for [CLS], [SEP], [SEP] with \"- 3\"\n",
        "        _truncate_seq_pair(tokens_a, tokens_b, max_seq_length - 3)\n",
        "    else:\n",
        "        # Account for [CLS] and [SEP] with \"- 2\"\n",
        "        if len(tokens_a) > max_seq_length - 2:\n",
        "            tokens_a = tokens_a[:(max_seq_length - 2)]\n",
        "\n",
        "    # The convention in BERT is:\n",
        "    # (a) For sequence pairs:\n",
        "    #  tokens:   [CLS] is this jack ##son ##ville ? [SEP] no it is not . [SEP]\n",
        "    #  type_ids:   0   0  0    0    0     0       0   0   1  1  1  1   1   1\n",
        "    # (b) For single sequences:\n",
        "    #  tokens:   [CLS] the dog is hairy . [SEP]\n",
        "    #  type_ids:   0   0   0   0  0     0   0\n",
        "    #\n",
        "    # Where \"type_ids\" are used to indicate whether this is the first\n",
        "    # sequence or the second sequence. The embedding vectors for `type=0` and\n",
        "    # `type=1` were learned during pre-training and are added to the wordpiece\n",
        "    # embedding vector (and position vector). This is not *strictly* necessary\n",
        "    # since the [SEP] token unambiguously separates the sequences, but it makes\n",
        "    # it easier for the model to learn the concept of sequences.\n",
        "    #\n",
        "    # For classification tasks, the first vector (corresponding to [CLS]) is\n",
        "    # used as as the \"sentence vector\". Note that this only makes sense because\n",
        "    # the entire model is fine-tuned.\n",
        "    tokens = tokens_a + [sep_token]\n",
        "    segment_ids = [sequence_a_segment_id] * len(tokens)\n",
        "\n",
        "    if tokens_b:\n",
        "        tokens += tokens_b + [sep_token]\n",
        "        segment_ids += [sequence_b_segment_id] * (len(tokens_b) + 1)\n",
        "\n",
        "    if cls_token_at_end:\n",
        "        tokens = tokens + [cls_token]\n",
        "        segment_ids = segment_ids + [cls_token_segment_id]\n",
        "    else:\n",
        "        tokens = [cls_token] + tokens\n",
        "        segment_ids = [cls_token_segment_id] + segment_ids\n",
        "\n",
        "    input_ids = tokenizer.convert_tokens_to_ids(tokens)\n",
        "\n",
        "    # The mask has 1 for real tokens and 0 for padding tokens. Only real\n",
        "    # tokens are attended to.\n",
        "    input_mask = [1 if mask_padding_with_zero else 0] * len(input_ids)\n",
        "\n",
        "    # Zero-pad up to the sequence length.\n",
        "    padding_length = max_seq_length - len(input_ids)\n",
        "    if pad_on_left:\n",
        "        input_ids = ([pad_token] * padding_length) + input_ids\n",
        "        input_mask = ([0 if mask_padding_with_zero else 1] * padding_length) + input_mask\n",
        "        segment_ids = ([pad_token_segment_id] * padding_length) + segment_ids\n",
        "    else:\n",
        "        input_ids = input_ids + ([pad_token] * padding_length)\n",
        "        input_mask = input_mask + ([0 if mask_padding_with_zero else 1] * padding_length)\n",
        "        segment_ids = segment_ids + ([pad_token_segment_id] * padding_length)\n",
        "\n",
        "    assert len(input_ids) == max_seq_length\n",
        "    assert len(input_mask) == max_seq_length\n",
        "    assert len(segment_ids) == max_seq_length\n",
        "\n",
        "    if output_mode == \"classification\":\n",
        "        label_id = label_map[example.label]\n",
        "    elif output_mode == \"regression\":\n",
        "        label_id = float(example.label)\n",
        "    else:\n",
        "        raise KeyError(output_mode)\n",
        "\n",
        "    return InputFeatures(input_ids=input_ids,\n",
        "                        input_mask=input_mask,\n",
        "                        segment_ids=segment_ids,\n",
        "                        label_id=label_id)\n",
        "    \n",
        "\n",
        "def convert_examples_to_features(examples, label_list, max_seq_length,\n",
        "                                 tokenizer, output_mode,\n",
        "                                 cls_token_at_end=False, pad_on_left=False,\n",
        "                                 cls_token='[CLS]', sep_token='[SEP]', pad_token=0,\n",
        "                                 sequence_a_segment_id=0, sequence_b_segment_id=1,\n",
        "                                 cls_token_segment_id=1, pad_token_segment_id=0,\n",
        "                                 mask_padding_with_zero=True,\n",
        "                                 process_count=cpu_count() - 2):\n",
        "    \"\"\" Loads a data file into a list of `InputBatch`s\n",
        "        `cls_token_at_end` define the location of the CLS token:\n",
        "            - False (Default, BERT/XLM pattern): [CLS] + A + [SEP] + B + [SEP]\n",
        "            - True (XLNet/GPT pattern): A + [SEP] + B + [SEP] + [CLS]\n",
        "        `cls_token_segment_id` define the segment id associated to the CLS token (0 for BERT, 2 for XLNet)\n",
        "    \"\"\"\n",
        "\n",
        "    label_map = {label : i for i, label in enumerate(label_list)}\n",
        "\n",
        "    examples = [(example, label_map, max_seq_length, tokenizer, output_mode, cls_token_at_end, cls_token, sep_token, cls_token_segment_id, pad_on_left, pad_token_segment_id) for example in examples]\n",
        "\n",
        "    with Pool(process_count) as p:\n",
        "        features = list(tqdm(p.imap(convert_example_to_feature, examples, chunksize=100), total=len(examples)))\n",
        "\n",
        "    return features\n",
        "\n",
        "\n",
        "def _truncate_seq_pair(tokens_a, tokens_b, max_length):\n",
        "    \"\"\"Truncates a sequence pair in place to the maximum length.\"\"\"\n",
        "\n",
        "    # This is a simple heuristic which will always truncate the longer sequence\n",
        "    # one token at a time. This makes more sense than truncating an equal percent\n",
        "    # of tokens from each, since if one sequence is very short then each token\n",
        "    # that's truncated likely contains more information than a longer sequence.\n",
        "    while True:\n",
        "        total_length = len(tokens_a) + len(tokens_b)\n",
        "        if total_length <= max_length:\n",
        "            break\n",
        "        if len(tokens_a) > len(tokens_b):\n",
        "            tokens_a.pop()\n",
        "        else:\n",
        "            tokens_b.pop()\n",
        "\n",
        "\n",
        "processors = {\n",
        "    \"multi-class\": BinaryProcessor\n",
        "}\n",
        "\n",
        "output_modes = {\n",
        "    \"multi-class\": \"classification\"\n",
        "}\n",
        "\n",
        "GLUE_TASKS_NUM_LABELS = {\n",
        "    \"multi-class\": 19\n",
        "}\n"
      ],
      "execution_count": 0,
      "outputs": [
        {
          "output_type": "stream",
          "text": [
            "Writing utils.py\n"
          ],
          "name": "stdout"
        }
      ]
    },
    {
      "cell_type": "code",
      "metadata": {
        "colab_type": "code",
        "id": "iDJUEfruz-aF",
        "colab": {}
      },
      "source": [
        "!mkdir data\n",
        "#!wget https://s3.amazonaws.com/fast-ai-nlp/yelp_review_polarity_csv.tgz -O data/data.tgz"
      ],
      "execution_count": 0,
      "outputs": []
    },
    {
      "cell_type": "code",
      "metadata": {
        "colab_type": "code",
        "id": "aepMB1Z_2u0V",
        "colab": {}
      },
      "source": [
        "#!tar -xvzf data/data.tgz -C data/\n",
        "#!mv data/yelp_review_polarity_csv/* data/\n",
        "#!rm -r data/yelp_review_polarity_csv/\n",
        "#!rm data/data.tgz"
      ],
      "execution_count": 0,
      "outputs": []
    },
    {
      "cell_type": "code",
      "metadata": {
        "colab_type": "code",
        "id": "qYv4tGNs4Tg8",
        "colab": {}
      },
      "source": [
        "import pandas as pd\n",
        "from tqdm import tqdm_notebook\n"
      ],
      "execution_count": 0,
      "outputs": []
    },
    {
      "cell_type": "code",
      "metadata": {
        "id": "KFuj_EnZ8t2r",
        "colab_type": "code",
        "colab": {}
      },
      "source": [
        "#read csv file from google drive\n",
        "import pandas as pd\n",
        "import numpy as np\n",
        "import spacy\n",
        "import en_core_web_sm\n",
        "from sklearn.decomposition import PCA \n",
        "from sklearn.feature_extraction.text import CountVectorizer, TfidfVectorizer\n",
        "from sklearn.cluster import KMeans\n"
      ],
      "execution_count": 0,
      "outputs": []
    },
    {
      "cell_type": "code",
      "metadata": {
        "colab_type": "code",
        "id": "um-kSl434Xk6",
        "outputId": "eaf3cab7-c0d1-47d1-b67f-914622b1c421",
        "colab": {
          "base_uri": "https://localhost:8080/",
          "height": 156
        }
      },
      "source": [
        "from google.colab import drive\n",
        "drive.mount('/content/drive')\n",
        "consumer_complaints = pd.read_csv(\"/content/drive/My Drive/Con_Complaints.csv\") #header=None)\n"
      ],
      "execution_count": 0,
      "outputs": [
        {
          "output_type": "stream",
          "text": [
            "Go to this URL in a browser: https://accounts.google.com/o/oauth2/auth?client_id=947318989803-6bn6qk8qdgf4n4g3pfee6491hc0brc4i.apps.googleusercontent.com&redirect_uri=urn%3aietf%3awg%3aoauth%3a2.0%3aoob&response_type=code&scope=email%20https%3a%2f%2fwww.googleapis.com%2fauth%2fdocs.test%20https%3a%2f%2fwww.googleapis.com%2fauth%2fdrive%20https%3a%2f%2fwww.googleapis.com%2fauth%2fdrive.photos.readonly%20https%3a%2f%2fwww.googleapis.com%2fauth%2fpeopleapi.readonly\n",
            "\n",
            "Enter your authorization code:\n",
            "··········\n",
            "Mounted at /content/drive\n"
          ],
          "name": "stdout"
        },
        {
          "output_type": "stream",
          "text": [
            "/usr/local/lib/python3.6/dist-packages/IPython/core/interactiveshell.py:2718: DtypeWarning: Columns (17) have mixed types. Specify dtype option on import or set low_memory=False.\n",
            "  interactivity=interactivity, compiler=compiler, result=result)\n"
          ],
          "name": "stderr"
        }
      ]
    },
    {
      "cell_type": "code",
      "metadata": {
        "id": "clHMYnYPFbrv",
        "colab_type": "code",
        "colab": {}
      },
      "source": [
        "consumer = consumer_complaints \n",
        "from ast import literal_eval\n",
        "df = consumer['tokenized']\n",
        "a= []\n",
        "for each in df: \n",
        "  a.append(literal_eval(each))\n",
        "  \n",
        "nlp = spacy.load(\"en_core_web_sm\")\n",
        "words = a\n",
        "\n",
        "lengths = np.cumsum([0] + list(map(len, words)))\n",
        "print(lengths)\n",
        "\n",
        "\n",
        "flat_words = [item for sublist in words for item in sublist]\n",
        "doc = spacy.tokens.Doc(nlp.vocab, words=flat_words)\n",
        "\n",
        "lemmatized = []\n",
        "# Iterate starting with 1\n",
        "for index in range(1, len(lengths)):\n",
        "    # Slice doc as described in the first point\n",
        "    span = doc[lengths[index - 1] : lengths[index]]\n",
        "    # Add lemmatized tokens as list to the list\n",
        "    lemmatized.append([token.lemma_ for token in span])"
      ],
      "execution_count": 0,
      "outputs": []
    },
    {
      "cell_type": "code",
      "metadata": {
        "id": "16MUeOJgbjRg",
        "colab_type": "code",
        "colab": {}
      },
      "source": [
        "consumer_complaints['Lemmatized'] = lemmatized"
      ],
      "execution_count": 0,
      "outputs": []
    },
    {
      "cell_type": "code",
      "metadata": {
        "id": "R2A6UQUsI_9o",
        "colab_type": "code",
        "colab": {}
      },
      "source": [
        "cc = consumer_complaints.sample(n=15000)\n",
        "cc_train = cc"
      ],
      "execution_count": 0,
      "outputs": []
    },
    {
      "cell_type": "code",
      "metadata": {
        "id": "86zRBt0orxrM",
        "colab_type": "code",
        "outputId": "d57d49c7-26d5-446e-861e-981812657fa6",
        "colab": {
          "base_uri": "https://localhost:8080/",
          "height": 700
        }
      },
      "source": [
        "cc_train.head()"
      ],
      "execution_count": 0,
      "outputs": [
        {
          "output_type": "execute_result",
          "data": {
            "text/html": [
              "<div>\n",
              "<style scoped>\n",
              "    .dataframe tbody tr th:only-of-type {\n",
              "        vertical-align: middle;\n",
              "    }\n",
              "\n",
              "    .dataframe tbody tr th {\n",
              "        vertical-align: top;\n",
              "    }\n",
              "\n",
              "    .dataframe thead th {\n",
              "        text-align: right;\n",
              "    }\n",
              "</style>\n",
              "<table border=\"1\" class=\"dataframe\">\n",
              "  <thead>\n",
              "    <tr style=\"text-align: right;\">\n",
              "      <th></th>\n",
              "      <th>Unnamed: 0</th>\n",
              "      <th>Date received</th>\n",
              "      <th>Product</th>\n",
              "      <th>Sub-product</th>\n",
              "      <th>Issue</th>\n",
              "      <th>Sub-issue</th>\n",
              "      <th>Complaint</th>\n",
              "      <th>Response</th>\n",
              "      <th>Company</th>\n",
              "      <th>State</th>\n",
              "      <th>ZIP code</th>\n",
              "      <th>Tags</th>\n",
              "      <th>Consumer consent provided?</th>\n",
              "      <th>Submitted via</th>\n",
              "      <th>Date sent to company</th>\n",
              "      <th>Company response to consumer</th>\n",
              "      <th>Timely response?</th>\n",
              "      <th>Consumer disputed?</th>\n",
              "      <th>Complaint ID</th>\n",
              "      <th>Complaint_lower</th>\n",
              "      <th>Complaint_clean</th>\n",
              "      <th>Complaint_nostop</th>\n",
              "      <th>tokenized</th>\n",
              "    </tr>\n",
              "  </thead>\n",
              "  <tbody>\n",
              "    <tr>\n",
              "      <th>185441</th>\n",
              "      <td>432328</td>\n",
              "      <td>02/05/2018</td>\n",
              "      <td>Debt collection</td>\n",
              "      <td>I do not know</td>\n",
              "      <td>Took or threatened to take negative or legal a...</td>\n",
              "      <td>Threatened or suggested your credit would be d...</td>\n",
              "      <td>I received a phone call from XXXX ( XXXX ) XXX...</td>\n",
              "      <td>Company believes the complaint is the result o...</td>\n",
              "      <td>Weinberg Mediation Group LLC</td>\n",
              "      <td>MO</td>\n",
              "      <td>633XX</td>\n",
              "      <td>NaN</td>\n",
              "      <td>Consent provided</td>\n",
              "      <td>Web</td>\n",
              "      <td>02/05/2018</td>\n",
              "      <td>Closed with explanation</td>\n",
              "      <td>Yes</td>\n",
              "      <td>NaN</td>\n",
              "      <td>2804704</td>\n",
              "      <td>i received a phone call from xxxx ( xxxx ) xxx...</td>\n",
              "      <td>i received a phone call from       which went ...</td>\n",
              "      <td>received phone call went cell phone voicemail ...</td>\n",
              "      <td>['received', 'phone', 'call', 'went', 'cell', ...</td>\n",
              "    </tr>\n",
              "    <tr>\n",
              "      <th>128869</th>\n",
              "      <td>309017</td>\n",
              "      <td>07/20/2018</td>\n",
              "      <td>Mortgage</td>\n",
              "      <td>Conventional home mortgage</td>\n",
              "      <td>Applying for a mortgage or refinancing an exis...</td>\n",
              "      <td>NaN</td>\n",
              "      <td>We applied for a loan with City Creek Mortgage...</td>\n",
              "      <td>NaN</td>\n",
              "      <td>CITY CREEK MORTGAGE CORP.</td>\n",
              "      <td>UT</td>\n",
              "      <td>840XX</td>\n",
              "      <td>Servicemember</td>\n",
              "      <td>Consent provided</td>\n",
              "      <td>Web</td>\n",
              "      <td>08/16/2018</td>\n",
              "      <td>Closed with explanation</td>\n",
              "      <td>Yes</td>\n",
              "      <td>NaN</td>\n",
              "      <td>2968234</td>\n",
              "      <td>we applied for a loan with city creek mortgage...</td>\n",
              "      <td>we applied for a loan with city creek mortgage...</td>\n",
              "      <td>applied loan city creek mortgage corp never re...</td>\n",
              "      <td>['applied', 'loan', 'city', 'creek', 'mortgage...</td>\n",
              "    </tr>\n",
              "    <tr>\n",
              "      <th>117896</th>\n",
              "      <td>284805</td>\n",
              "      <td>08/24/2018</td>\n",
              "      <td>Credit reporting, credit repair services, or o...</td>\n",
              "      <td>Credit reporting</td>\n",
              "      <td>Incorrect information on your report</td>\n",
              "      <td>Account status incorrect</td>\n",
              "      <td>XXXX lease was closed out 2015 A/c number XXXX...</td>\n",
              "      <td>Company has responded to the consumer and the ...</td>\n",
              "      <td>Experian Information Solutions Inc.</td>\n",
              "      <td>NJ</td>\n",
              "      <td>077XX</td>\n",
              "      <td>NaN</td>\n",
              "      <td>Consent provided</td>\n",
              "      <td>Web</td>\n",
              "      <td>08/24/2018</td>\n",
              "      <td>Closed with explanation</td>\n",
              "      <td>Yes</td>\n",
              "      <td>NaN</td>\n",
              "      <td>3001314</td>\n",
              "      <td>xxxx lease was closed out 2015 a/c number xxxx...</td>\n",
              "      <td>lease was closed out a c number  experian has...</td>\n",
              "      <td>lease closed c number experian balance due mon...</td>\n",
              "      <td>['lease', 'closed', 'c', 'number', 'experian',...</td>\n",
              "    </tr>\n",
              "    <tr>\n",
              "      <th>437823</th>\n",
              "      <td>1007228</td>\n",
              "      <td>05/03/2015</td>\n",
              "      <td>Credit reporting</td>\n",
              "      <td>NaN</td>\n",
              "      <td>Incorrect information on credit report</td>\n",
              "      <td>Account status</td>\n",
              "      <td>Experian continues to report a delinquency fro...</td>\n",
              "      <td>Company chooses not to provide a public response</td>\n",
              "      <td>Experian Information Solutions Inc.</td>\n",
              "      <td>TX</td>\n",
              "      <td>780XX</td>\n",
              "      <td>NaN</td>\n",
              "      <td>Consent provided</td>\n",
              "      <td>Web</td>\n",
              "      <td>05/03/2015</td>\n",
              "      <td>Closed with explanation</td>\n",
              "      <td>Yes</td>\n",
              "      <td>Yes</td>\n",
              "      <td>1358118</td>\n",
              "      <td>experian continues to report a delinquency fro...</td>\n",
              "      <td>experian continues to report a delinquency fro...</td>\n",
              "      <td>experian continues report delinquency although...</td>\n",
              "      <td>['experian', 'continues', 'report', 'delinquen...</td>\n",
              "    </tr>\n",
              "    <tr>\n",
              "      <th>24416</th>\n",
              "      <td>78278</td>\n",
              "      <td>06/18/2019</td>\n",
              "      <td>Credit reporting, credit repair services, or o...</td>\n",
              "      <td>Credit reporting</td>\n",
              "      <td>Incorrect information on your report</td>\n",
              "      <td>Information belongs to someone else</td>\n",
              "      <td>Hello, XXXX showed up on my credit report at a...</td>\n",
              "      <td>Company has responded to the consumer and the ...</td>\n",
              "      <td>Experian Information Solutions Inc.</td>\n",
              "      <td>FL</td>\n",
              "      <td>322XX</td>\n",
              "      <td>NaN</td>\n",
              "      <td>Consent provided</td>\n",
              "      <td>Web</td>\n",
              "      <td>06/18/2019</td>\n",
              "      <td>Closed with explanation</td>\n",
              "      <td>Yes</td>\n",
              "      <td>NaN</td>\n",
              "      <td>3278286</td>\n",
              "      <td>hello, xxxx showed up on my credit report at a...</td>\n",
              "      <td>hello  showed up on my credit report at a time...</td>\n",
              "      <td>hello showed credit report time even country g...</td>\n",
              "      <td>['hello', 'showed', 'credit', 'report', 'time'...</td>\n",
              "    </tr>\n",
              "  </tbody>\n",
              "</table>\n",
              "</div>"
            ],
            "text/plain": [
              "        Unnamed: 0  ...                                          tokenized\n",
              "185441      432328  ...  ['received', 'phone', 'call', 'went', 'cell', ...\n",
              "128869      309017  ...  ['applied', 'loan', 'city', 'creek', 'mortgage...\n",
              "117896      284805  ...  ['lease', 'closed', 'c', 'number', 'experian',...\n",
              "437823     1007228  ...  ['experian', 'continues', 'report', 'delinquen...\n",
              "24416        78278  ...  ['hello', 'showed', 'credit', 'report', 'time'...\n",
              "\n",
              "[5 rows x 23 columns]"
            ]
          },
          "metadata": {
            "tags": []
          },
          "execution_count": 76
        }
      ]
    },
    {
      "cell_type": "code",
      "metadata": {
        "id": "LM_rgPLzI2G-",
        "colab_type": "code",
        "colab": {}
      },
      "source": [
        "cc_train = cc[[\"Product\", \"Complaint\"]]\n",
        "#cc_test = cc_test[[\"Product\", \"Complaint\"]]\n",
        "cc_train.to_csv(\"/content/data/cc_train.csv\")\n",
        "#cc_test.to_csv(\"/content/data/cc_test.csv\")\n",
        "\n"
      ],
      "execution_count": 0,
      "outputs": []
    },
    {
      "cell_type": "code",
      "metadata": {
        "id": "lOE-1NUxGiGn",
        "colab_type": "code",
        "colab": {}
      },
      "source": [
        "#Small sample of entire data set - please disregard for run time of Roberta \n",
        "#cc_all= pd.read_csv(\"/content/data/cc_train.csv\" ,header=None)\n",
        "cc_get = cc\n",
        "cc_get.to_csv(\"/content/data/cc_get.csv\")\n",
        "\n"
      ],
      "execution_count": 0,
      "outputs": []
    },
    {
      "cell_type": "code",
      "metadata": {
        "id": "REPsn6KcMs9T",
        "colab_type": "code",
        "colab": {}
      },
      "source": [
        "cc_train = pd.read_csv(\"/content/data/cc_train.csv\" ,header=None)\n",
        "#cc_test = pd.read_csv(\"/content/data/cc_test.csv\" ,header=None)"
      ],
      "execution_count": 0,
      "outputs": []
    },
    {
      "cell_type": "code",
      "metadata": {
        "id": "NbrkHdcvNL1i",
        "colab_type": "code",
        "colab": {}
      },
      "source": [
        "cc_train = cc_train[[1,2]]\n",
        "#cc_test = cc_test[[1,2]]"
      ],
      "execution_count": 0,
      "outputs": []
    },
    {
      "cell_type": "code",
      "metadata": {
        "id": "6nFllWmrqWTM",
        "colab_type": "code",
        "outputId": "abf13090-2c1a-41bf-e285-08e5918b28ef",
        "colab": {
          "base_uri": "https://localhost:8080/",
          "height": 419
        }
      },
      "source": [
        "cc_train\n"
      ],
      "execution_count": 0,
      "outputs": [
        {
          "output_type": "execute_result",
          "data": {
            "text/html": [
              "<div>\n",
              "<style scoped>\n",
              "    .dataframe tbody tr th:only-of-type {\n",
              "        vertical-align: middle;\n",
              "    }\n",
              "\n",
              "    .dataframe tbody tr th {\n",
              "        vertical-align: top;\n",
              "    }\n",
              "\n",
              "    .dataframe thead th {\n",
              "        text-align: right;\n",
              "    }\n",
              "</style>\n",
              "<table border=\"1\" class=\"dataframe\">\n",
              "  <thead>\n",
              "    <tr style=\"text-align: right;\">\n",
              "      <th></th>\n",
              "      <th>1</th>\n",
              "      <th>2</th>\n",
              "    </tr>\n",
              "  </thead>\n",
              "  <tbody>\n",
              "    <tr>\n",
              "      <th>0</th>\n",
              "      <td>Product</td>\n",
              "      <td>Complaint</td>\n",
              "    </tr>\n",
              "    <tr>\n",
              "      <th>1</th>\n",
              "      <td>Debt collection</td>\n",
              "      <td>They are trying to get me to pay a debt I do n...</td>\n",
              "    </tr>\n",
              "    <tr>\n",
              "      <th>2</th>\n",
              "      <td>Credit card or prepaid card</td>\n",
              "      <td>XX/XX/18 - I received information regarding a ...</td>\n",
              "    </tr>\n",
              "    <tr>\n",
              "      <th>3</th>\n",
              "      <td>Debt collection</td>\n",
              "      <td>I opened a equity line of credit in XXXX but d...</td>\n",
              "    </tr>\n",
              "    <tr>\n",
              "      <th>4</th>\n",
              "      <td>Debt collection</td>\n",
              "      <td>I called a XXXX in which I had a credit card w...</td>\n",
              "    </tr>\n",
              "    <tr>\n",
              "      <th>...</th>\n",
              "      <td>...</td>\n",
              "      <td>...</td>\n",
              "    </tr>\n",
              "    <tr>\n",
              "      <th>14996</th>\n",
              "      <td>Credit reporting</td>\n",
              "      <td>Account is not mine. I disagree with the inves...</td>\n",
              "    </tr>\n",
              "    <tr>\n",
              "      <th>14997</th>\n",
              "      <td>Payday loan, title loan, or personal loan</td>\n",
              "      <td>In the contract and statements it says after t...</td>\n",
              "    </tr>\n",
              "    <tr>\n",
              "      <th>14998</th>\n",
              "      <td>Mortgage</td>\n",
              "      <td>I was given Ocwen as a mortgage company and ha...</td>\n",
              "    </tr>\n",
              "    <tr>\n",
              "      <th>14999</th>\n",
              "      <td>Debt collection</td>\n",
              "      <td>XXXX XXXX XXXX has badgered my client about a ...</td>\n",
              "    </tr>\n",
              "    <tr>\n",
              "      <th>15000</th>\n",
              "      <td>Credit card or prepaid card</td>\n",
              "      <td>I filed a dispute for a transaction dispute. A...</td>\n",
              "    </tr>\n",
              "  </tbody>\n",
              "</table>\n",
              "<p>15001 rows × 2 columns</p>\n",
              "</div>"
            ],
            "text/plain": [
              "                                               1                                                  2\n",
              "0                                        Product                                          Complaint\n",
              "1                                Debt collection  They are trying to get me to pay a debt I do n...\n",
              "2                    Credit card or prepaid card  XX/XX/18 - I received information regarding a ...\n",
              "3                                Debt collection  I opened a equity line of credit in XXXX but d...\n",
              "4                                Debt collection  I called a XXXX in which I had a credit card w...\n",
              "...                                          ...                                                ...\n",
              "14996                           Credit reporting  Account is not mine. I disagree with the inves...\n",
              "14997  Payday loan, title loan, or personal loan  In the contract and statements it says after t...\n",
              "14998                                   Mortgage  I was given Ocwen as a mortgage company and ha...\n",
              "14999                            Debt collection  XXXX XXXX XXXX has badgered my client about a ...\n",
              "15000                Credit card or prepaid card  I filed a dispute for a transaction dispute. A...\n",
              "\n",
              "[15001 rows x 2 columns]"
            ]
          },
          "metadata": {
            "tags": []
          },
          "execution_count": 14
        }
      ]
    },
    {
      "cell_type": "code",
      "metadata": {
        "id": "lOrN3wHBqdCT",
        "colab_type": "code",
        "outputId": "c6ca33fa-aba8-477a-804a-dfec1c10ef2f",
        "colab": {
          "base_uri": "https://localhost:8080/",
          "height": 34
        }
      },
      "source": [
        "cc_train.shape"
      ],
      "execution_count": 0,
      "outputs": [
        {
          "output_type": "execute_result",
          "data": {
            "text/plain": [
              "(15001, 2)"
            ]
          },
          "metadata": {
            "tags": []
          },
          "execution_count": 15
        }
      ]
    },
    {
      "cell_type": "code",
      "metadata": {
        "colab_type": "code",
        "id": "_Xe5tm-2441r",
        "colab": {}
      },
      "source": [
        "\n",
        "#cc_train[1] = (cc_train[1] == 2).astype(int)\n",
        "#cc_test[1] = (cc_test[1] == 2).astype(int)\n"
      ],
      "execution_count": 0,
      "outputs": []
    },
    {
      "cell_type": "code",
      "metadata": {
        "colab_type": "code",
        "id": "hVsnPNzr4XjB",
        "outputId": "77555ea4-da93-41ed-f19d-a13ba003e83f",
        "colab": {
          "base_uri": "https://localhost:8080/",
          "height": 204
        }
      },
      "source": [
        "train_df = pd.DataFrame({\n",
        "    'id':range(len(cc_train)),\n",
        "    'label':cc_train[1],\n",
        "    'alpha':['a']*cc_train.shape[0],\n",
        "    'text': cc_train[2].replace(r'\\n', ' ', regex=True)\n",
        "})\n",
        "train_df.head()"
      ],
      "execution_count": 0,
      "outputs": [
        {
          "output_type": "execute_result",
          "data": {
            "text/html": [
              "<div>\n",
              "<style scoped>\n",
              "    .dataframe tbody tr th:only-of-type {\n",
              "        vertical-align: middle;\n",
              "    }\n",
              "\n",
              "    .dataframe tbody tr th {\n",
              "        vertical-align: top;\n",
              "    }\n",
              "\n",
              "    .dataframe thead th {\n",
              "        text-align: right;\n",
              "    }\n",
              "</style>\n",
              "<table border=\"1\" class=\"dataframe\">\n",
              "  <thead>\n",
              "    <tr style=\"text-align: right;\">\n",
              "      <th></th>\n",
              "      <th>id</th>\n",
              "      <th>label</th>\n",
              "      <th>alpha</th>\n",
              "      <th>text</th>\n",
              "    </tr>\n",
              "  </thead>\n",
              "  <tbody>\n",
              "    <tr>\n",
              "      <th>0</th>\n",
              "      <td>0</td>\n",
              "      <td>Product</td>\n",
              "      <td>a</td>\n",
              "      <td>Complaint</td>\n",
              "    </tr>\n",
              "    <tr>\n",
              "      <th>1</th>\n",
              "      <td>1</td>\n",
              "      <td>Debt collection</td>\n",
              "      <td>a</td>\n",
              "      <td>They are trying to get me to pay a debt I do n...</td>\n",
              "    </tr>\n",
              "    <tr>\n",
              "      <th>2</th>\n",
              "      <td>2</td>\n",
              "      <td>Credit card or prepaid card</td>\n",
              "      <td>a</td>\n",
              "      <td>XX/XX/18 - I received information regarding a ...</td>\n",
              "    </tr>\n",
              "    <tr>\n",
              "      <th>3</th>\n",
              "      <td>3</td>\n",
              "      <td>Debt collection</td>\n",
              "      <td>a</td>\n",
              "      <td>I opened a equity line of credit in XXXX but d...</td>\n",
              "    </tr>\n",
              "    <tr>\n",
              "      <th>4</th>\n",
              "      <td>4</td>\n",
              "      <td>Debt collection</td>\n",
              "      <td>a</td>\n",
              "      <td>I called a XXXX in which I had a credit card w...</td>\n",
              "    </tr>\n",
              "  </tbody>\n",
              "</table>\n",
              "</div>"
            ],
            "text/plain": [
              "   id  ...                                               text\n",
              "0   0  ...                                          Complaint\n",
              "1   1  ...  They are trying to get me to pay a debt I do n...\n",
              "2   2  ...  XX/XX/18 - I received information regarding a ...\n",
              "3   3  ...  I opened a equity line of credit in XXXX but d...\n",
              "4   4  ...  I called a XXXX in which I had a credit card w...\n",
              "\n",
              "[5 rows x 4 columns]"
            ]
          },
          "metadata": {
            "tags": []
          },
          "execution_count": 16
        }
      ]
    },
    {
      "cell_type": "code",
      "metadata": {
        "id": "DJ2vrkSZjZH2",
        "colab_type": "code",
        "outputId": "ea0612b7-540f-4d15-8f96-4ae9a9e304b0",
        "colab": {
          "base_uri": "https://localhost:8080/",
          "height": 204
        }
      },
      "source": [
        "dev_df = pd.DataFrame({\n",
        "    'id':range(len(cc_test)),\n",
        "    'label':cc_test[1],\n",
        "    'alpha':['a']*cc_test.shape[0],\n",
        "    'text': cc_test[2].replace(r'\\n', ' ', regex=True)\n",
        "})\n",
        "\n",
        "dev_df.head()"
      ],
      "execution_count": 0,
      "outputs": [
        {
          "output_type": "execute_result",
          "data": {
            "text/html": [
              "<div>\n",
              "<style scoped>\n",
              "    .dataframe tbody tr th:only-of-type {\n",
              "        vertical-align: middle;\n",
              "    }\n",
              "\n",
              "    .dataframe tbody tr th {\n",
              "        vertical-align: top;\n",
              "    }\n",
              "\n",
              "    .dataframe thead th {\n",
              "        text-align: right;\n",
              "    }\n",
              "</style>\n",
              "<table border=\"1\" class=\"dataframe\">\n",
              "  <thead>\n",
              "    <tr style=\"text-align: right;\">\n",
              "      <th></th>\n",
              "      <th>id</th>\n",
              "      <th>label</th>\n",
              "      <th>alpha</th>\n",
              "      <th>text</th>\n",
              "    </tr>\n",
              "  </thead>\n",
              "  <tbody>\n",
              "    <tr>\n",
              "      <th>0</th>\n",
              "      <td>0</td>\n",
              "      <td>Product</td>\n",
              "      <td>a</td>\n",
              "      <td>Complaint</td>\n",
              "    </tr>\n",
              "    <tr>\n",
              "      <th>1</th>\n",
              "      <td>1</td>\n",
              "      <td>Debt collection</td>\n",
              "      <td>a</td>\n",
              "      <td>my identity was stolen in 2017 and my credit h...</td>\n",
              "    </tr>\n",
              "    <tr>\n",
              "      <th>2</th>\n",
              "      <td>2</td>\n",
              "      <td>Consumer Loan</td>\n",
              "      <td>a</td>\n",
              "      <td>Background : I filed Chapter XXXX BK in XXXX, ...</td>\n",
              "    </tr>\n",
              "    <tr>\n",
              "      <th>3</th>\n",
              "      <td>3</td>\n",
              "      <td>Credit card or prepaid card</td>\n",
              "      <td>a</td>\n",
              "      <td>I have made payment every month well over my m...</td>\n",
              "    </tr>\n",
              "    <tr>\n",
              "      <th>4</th>\n",
              "      <td>4</td>\n",
              "      <td>Credit reporting, credit repair services, or o...</td>\n",
              "      <td>a</td>\n",
              "      <td>I can not get my credit report from equifax</td>\n",
              "    </tr>\n",
              "  </tbody>\n",
              "</table>\n",
              "</div>"
            ],
            "text/plain": [
              "   id  ...                                               text\n",
              "0   0  ...                                          Complaint\n",
              "1   1  ...  my identity was stolen in 2017 and my credit h...\n",
              "2   2  ...  Background : I filed Chapter XXXX BK in XXXX, ...\n",
              "3   3  ...  I have made payment every month well over my m...\n",
              "4   4  ...        I can not get my credit report from equifax\n",
              "\n",
              "[5 rows x 4 columns]"
            ]
          },
          "metadata": {
            "tags": []
          },
          "execution_count": 17
        }
      ]
    },
    {
      "cell_type": "code",
      "metadata": {
        "id": "zgocoLzmSeEC",
        "colab_type": "code",
        "colab": {}
      },
      "source": [
        "#train_df['label'] = train_df['label'].astype(\"category\")\n",
        "#cat_columns = train_df.select_dtypes(['category']).columns\n",
        "#train_df[cat_columns] = train_df[cat_columns].apply(lambda x: x.cat.codes)\n",
        "\n",
        "dev_df['label'] = dev_df['label'].astype(\"category\")\n",
        "cat_columns = dev_df.select_dtypes(['category']).columns\n",
        "dev_df[cat_columns] = dev_df[cat_columns].apply(lambda x: x.cat.codes)"
      ],
      "execution_count": 0,
      "outputs": []
    },
    {
      "cell_type": "code",
      "metadata": {
        "id": "r9WmecMhkUT4",
        "colab_type": "code",
        "colab": {}
      },
      "source": [
        "import numpy"
      ],
      "execution_count": 0,
      "outputs": []
    },
    {
      "cell_type": "code",
      "metadata": {
        "id": "2bi6gMTKUq7_",
        "colab_type": "code",
        "colab": {}
      },
      "source": [
        "train_df['label'] = train_df['label'].astype(numpy.int64)\n",
        "dev_df['label'] = dev_df['label'].astype(numpy.int64)\n",
        "\n"
      ],
      "execution_count": 0,
      "outputs": []
    },
    {
      "cell_type": "code",
      "metadata": {
        "colab_type": "code",
        "id": "pFlvoH234XdO",
        "colab": {}
      },
      "source": [
        "train_df.to_csv(\"data/train.tsv\", sep='\\t', index=False, header=False, columns=train_df.columns)\n",
        "#dev_df.to_csv('data/dev.tsv', sep='\\t', index=False, header=False, columns=dev_df.columns)"
      ],
      "execution_count": 0,
      "outputs": []
    },
    {
      "cell_type": "markdown",
      "metadata": {
        "id": "rG-ILv6MZzi7",
        "colab_type": "text"
      },
      "source": [
        "#Data Prep ^"
      ]
    },
    {
      "cell_type": "markdown",
      "metadata": {
        "id": "8eWCJgWp_YOJ",
        "colab_type": "text"
      },
      "source": [
        "#Multi Class"
      ]
    },
    {
      "cell_type": "markdown",
      "metadata": {
        "id": "aqECy6oT_kb6",
        "colab_type": "text"
      },
      "source": [
        "#MultiClass ^"
      ]
    },
    {
      "cell_type": "markdown",
      "metadata": {
        "id": "1K_2gMAwbX1Q",
        "colab_type": "text"
      },
      "source": [
        "# ROBERTA"
      ]
    },
    {
      "cell_type": "code",
      "metadata": {
        "id": "HZ23C1k8NpLF",
        "colab_type": "code",
        "colab": {}
      },
      "source": [
        "import pytorch_transformers"
      ],
      "execution_count": 0,
      "outputs": []
    },
    {
      "cell_type": "code",
      "metadata": {
        "id": "ZRIdx4-ycAkg",
        "colab_type": "code",
        "colab": {}
      },
      "source": [
        "import pandas as pd\n",
        "import numpy as np\n",
        "import json, re\n",
        "from tqdm import tqdm_notebook\n",
        "from uuid import uuid4\n",
        "\n"
      ],
      "execution_count": 0,
      "outputs": []
    },
    {
      "cell_type": "code",
      "metadata": {
        "id": "UZVqF5ZpOLo6",
        "colab_type": "code",
        "colab": {}
      },
      "source": [
        "## Torch Modules\n",
        "import torch\n",
        "import torch.optim as optim\n",
        "import torch.nn as nn\n",
        "import torch.nn.functional as F\n",
        "from torch.autograd import Variable\n",
        "from torch.utils.data import Dataset, DataLoader"
      ],
      "execution_count": 0,
      "outputs": []
    },
    {
      "cell_type": "code",
      "metadata": {
        "id": "Wt-SPUDtbbxG",
        "colab_type": "code",
        "colab": {}
      },
      "source": [
        "## PyTorch Transformer\n",
        "from pytorch_transformers import RobertaModel, RobertaTokenizer\n",
        "from pytorch_transformers import RobertaForSequenceClassification, RobertaConfig"
      ],
      "execution_count": 0,
      "outputs": []
    },
    {
      "cell_type": "code",
      "metadata": {
        "id": "FnHEX3xCbzc6",
        "colab_type": "code",
        "outputId": "62e82d24-609c-4566-a75a-797bcf24ef51",
        "colab": {
          "base_uri": "https://localhost:8080/",
          "height": 34
        }
      },
      "source": [
        "print(torch.cuda.is_available())"
      ],
      "execution_count": 0,
      "outputs": [
        {
          "output_type": "stream",
          "text": [
            "True\n"
          ],
          "name": "stdout"
        }
      ]
    },
    {
      "cell_type": "code",
      "metadata": {
        "id": "-VPQBk3ZiRHD",
        "colab_type": "code",
        "outputId": "3520d4a6-dec0-43d7-cd8e-b7bee6d40bd1",
        "colab": {
          "base_uri": "https://localhost:8080/",
          "height": 204
        }
      },
      "source": [
        "train_df.head()"
      ],
      "execution_count": 0,
      "outputs": [
        {
          "output_type": "execute_result",
          "data": {
            "text/html": [
              "<div>\n",
              "<style scoped>\n",
              "    .dataframe tbody tr th:only-of-type {\n",
              "        vertical-align: middle;\n",
              "    }\n",
              "\n",
              "    .dataframe tbody tr th {\n",
              "        vertical-align: top;\n",
              "    }\n",
              "\n",
              "    .dataframe thead th {\n",
              "        text-align: right;\n",
              "    }\n",
              "</style>\n",
              "<table border=\"1\" class=\"dataframe\">\n",
              "  <thead>\n",
              "    <tr style=\"text-align: right;\">\n",
              "      <th></th>\n",
              "      <th>id</th>\n",
              "      <th>label</th>\n",
              "      <th>alpha</th>\n",
              "      <th>text</th>\n",
              "    </tr>\n",
              "  </thead>\n",
              "  <tbody>\n",
              "    <tr>\n",
              "      <th>0</th>\n",
              "      <td>0</td>\n",
              "      <td>Product</td>\n",
              "      <td>a</td>\n",
              "      <td>Complaint</td>\n",
              "    </tr>\n",
              "    <tr>\n",
              "      <th>1</th>\n",
              "      <td>1</td>\n",
              "      <td>Debt collection</td>\n",
              "      <td>a</td>\n",
              "      <td>They are trying to get me to pay a debt I do n...</td>\n",
              "    </tr>\n",
              "    <tr>\n",
              "      <th>2</th>\n",
              "      <td>2</td>\n",
              "      <td>Credit card or prepaid card</td>\n",
              "      <td>a</td>\n",
              "      <td>XX/XX/18 - I received information regarding a ...</td>\n",
              "    </tr>\n",
              "    <tr>\n",
              "      <th>3</th>\n",
              "      <td>3</td>\n",
              "      <td>Debt collection</td>\n",
              "      <td>a</td>\n",
              "      <td>I opened a equity line of credit in XXXX but d...</td>\n",
              "    </tr>\n",
              "    <tr>\n",
              "      <th>4</th>\n",
              "      <td>4</td>\n",
              "      <td>Debt collection</td>\n",
              "      <td>a</td>\n",
              "      <td>I called a XXXX in which I had a credit card w...</td>\n",
              "    </tr>\n",
              "  </tbody>\n",
              "</table>\n",
              "</div>"
            ],
            "text/plain": [
              "   id  ...                                               text\n",
              "0   0  ...                                          Complaint\n",
              "1   1  ...  They are trying to get me to pay a debt I do n...\n",
              "2   2  ...  XX/XX/18 - I received information regarding a ...\n",
              "3   3  ...  I opened a equity line of credit in XXXX but d...\n",
              "4   4  ...  I called a XXXX in which I had a credit card w...\n",
              "\n",
              "[5 rows x 4 columns]"
            ]
          },
          "metadata": {
            "tags": []
          },
          "execution_count": 23
        }
      ]
    },
    {
      "cell_type": "code",
      "metadata": {
        "id": "td3s7FLrdKZD",
        "colab_type": "code",
        "outputId": "2dd6b0dc-1195-4f6f-bc21-41dcd8c632fa",
        "colab": {
          "base_uri": "https://localhost:8080/",
          "height": 170
        }
      },
      "source": [
        "train_df = train_df[['label','text']]\n",
        "train_df.label.unique()"
      ],
      "execution_count": 0,
      "outputs": [
        {
          "output_type": "execute_result",
          "data": {
            "text/plain": [
              "array(['Product', 'Debt collection', 'Credit card or prepaid card',\n",
              "       'Credit card', 'Bank account or service',\n",
              "       'Credit reporting, credit repair services, or other personal consumer reports',\n",
              "       'Credit reporting', 'Student loan', 'Consumer Loan', 'Mortgage',\n",
              "       'Payday loan, title loan, or personal loan',\n",
              "       'Checking or savings account', 'Vehicle loan or lease',\n",
              "       'Money transfer, virtual currency, or money service',\n",
              "       'Payday loan', 'Money transfers', 'Prepaid card',\n",
              "       'Other financial service'], dtype=object)"
            ]
          },
          "metadata": {
            "tags": []
          },
          "execution_count": 24
        }
      ]
    },
    {
      "cell_type": "code",
      "metadata": {
        "id": "qS0YyPYjb1ci",
        "colab_type": "code",
        "outputId": "c4b89d23-ebce-438a-c4d5-3e75ad8395e6",
        "colab": {
          "base_uri": "https://localhost:8080/",
          "height": 323
        }
      },
      "source": [
        "label_to_ix = {}\n",
        "for label in train_df.label:\n",
        "        if label not in label_to_ix:\n",
        "            label_to_ix[label]=len(label_to_ix)\n",
        "label_to_ix"
      ],
      "execution_count": 0,
      "outputs": [
        {
          "output_type": "execute_result",
          "data": {
            "text/plain": [
              "{'Bank account or service': 4,\n",
              " 'Checking or savings account': 11,\n",
              " 'Consumer Loan': 8,\n",
              " 'Credit card': 3,\n",
              " 'Credit card or prepaid card': 2,\n",
              " 'Credit reporting': 6,\n",
              " 'Credit reporting, credit repair services, or other personal consumer reports': 5,\n",
              " 'Debt collection': 1,\n",
              " 'Money transfer, virtual currency, or money service': 13,\n",
              " 'Money transfers': 15,\n",
              " 'Mortgage': 9,\n",
              " 'Other financial service': 17,\n",
              " 'Payday loan': 14,\n",
              " 'Payday loan, title loan, or personal loan': 10,\n",
              " 'Prepaid card': 16,\n",
              " 'Product': 0,\n",
              " 'Student loan': 7,\n",
              " 'Vehicle loan or lease': 12}"
            ]
          },
          "metadata": {
            "tags": []
          },
          "execution_count": 25
        }
      ]
    },
    {
      "cell_type": "code",
      "metadata": {
        "id": "MtnNVa55d8bP",
        "colab_type": "code",
        "outputId": "2b618375-5275-4b03-819e-a2cd905f8e2a",
        "colab": {
          "base_uri": "https://localhost:8080/",
          "height": 374
        }
      },
      "source": [
        "config = RobertaConfig.from_pretrained('roberta-base')\n",
        "config.num_labels = len(list(label_to_ix.values()))\n",
        "config"
      ],
      "execution_count": 0,
      "outputs": [
        {
          "output_type": "stream",
          "text": [
            "100%|██████████| 473/473 [00:00<00:00, 366846.49B/s]\n"
          ],
          "name": "stderr"
        },
        {
          "output_type": "execute_result",
          "data": {
            "text/plain": [
              "{\n",
              "  \"attention_probs_dropout_prob\": 0.1,\n",
              "  \"finetuning_task\": null,\n",
              "  \"hidden_act\": \"gelu\",\n",
              "  \"hidden_dropout_prob\": 0.1,\n",
              "  \"hidden_size\": 768,\n",
              "  \"initializer_range\": 0.02,\n",
              "  \"intermediate_size\": 3072,\n",
              "  \"layer_norm_eps\": 1e-05,\n",
              "  \"max_position_embeddings\": 514,\n",
              "  \"num_attention_heads\": 12,\n",
              "  \"num_hidden_layers\": 12,\n",
              "  \"num_labels\": 18,\n",
              "  \"output_attentions\": false,\n",
              "  \"output_hidden_states\": false,\n",
              "  \"pruned_heads\": {},\n",
              "  \"torchscript\": false,\n",
              "  \"type_vocab_size\": 1,\n",
              "  \"vocab_size\": 50265\n",
              "}"
            ]
          },
          "metadata": {
            "tags": []
          },
          "execution_count": 26
        }
      ]
    },
    {
      "cell_type": "code",
      "metadata": {
        "id": "tDw7zKGceCGy",
        "colab_type": "code",
        "outputId": "e1e715ee-a6b3-46ae-acbd-75a99fd9b520",
        "colab": {
          "base_uri": "https://localhost:8080/",
          "height": 51
        }
      },
      "source": [
        "tokenizer = RobertaTokenizer.from_pretrained('roberta-base')\n",
        "model = RobertaForSequenceClassification(config)"
      ],
      "execution_count": 0,
      "outputs": [
        {
          "output_type": "stream",
          "text": [
            "100%|██████████| 898823/898823 [00:00<00:00, 11255928.58B/s]\n",
            "100%|██████████| 456318/456318 [00:00<00:00, 6916959.08B/s]\n"
          ],
          "name": "stderr"
        }
      ]
    },
    {
      "cell_type": "code",
      "metadata": {
        "id": "3VWBPgfTeE3g",
        "colab_type": "code",
        "colab": {}
      },
      "source": [
        "def prepare_features(seq_1, max_seq_length = 300, \n",
        "             zero_pad = False, include_CLS_token = True, include_SEP_token = True):\n",
        "    ## Tokenzine Input\n",
        "    tokens_a = tokenizer.tokenize(seq_1)\n",
        "\n",
        "    ## Truncate\n",
        "    if len(tokens_a) > max_seq_length - 2:\n",
        "        tokens_a = tokens_a[0:(max_seq_length - 2)]\n",
        "    ## Initialize Tokens\n",
        "    tokens = []\n",
        "    if include_CLS_token:\n",
        "        tokens.append(tokenizer.cls_token)\n",
        "    ## Add Tokens and separators\n",
        "    for token in tokens_a:\n",
        "        tokens.append(token)\n",
        "\n",
        "    if include_SEP_token:\n",
        "        tokens.append(tokenizer.sep_token)\n",
        "\n",
        "    input_ids = tokenizer.convert_tokens_to_ids(tokens)\n",
        "    ## Input Mask \n",
        "    input_mask = [1] * len(input_ids)\n",
        "    ## Zero-pad sequence lenght\n",
        "    if zero_pad:\n",
        "        while len(input_ids) < max_seq_length:\n",
        "            input_ids.append(0)\n",
        "            input_mask.append(0)\n",
        "    return torch.tensor(input_ids).unsqueeze(0), input_mask"
      ],
      "execution_count": 0,
      "outputs": []
    },
    {
      "cell_type": "code",
      "metadata": {
        "id": "9VFMIwRHeJBa",
        "colab_type": "code",
        "outputId": "3b1460c9-a845-474d-e78b-ee61efbe6cff",
        "colab": {
          "base_uri": "https://localhost:8080/",
          "height": 51
        }
      },
      "source": [
        "msg = \"My dog is cute!\"\n",
        "prepare_features(msg)\n",
        "\n"
      ],
      "execution_count": 0,
      "outputs": [
        {
          "output_type": "execute_result",
          "data": {
            "text/plain": [
              "(tensor([[    0,  1308,  2335,    16, 11962,   328,     2]]),\n",
              " [1, 1, 1, 1, 1, 1, 1])"
            ]
          },
          "metadata": {
            "tags": []
          },
          "execution_count": 29
        }
      ]
    },
    {
      "cell_type": "code",
      "metadata": {
        "id": "-JgiWkN6eMzM",
        "colab_type": "code",
        "colab": {}
      },
      "source": [
        "class Intents(Dataset):\n",
        "    def __init__(self, dataframe):\n",
        "        self.len = len(dataframe)\n",
        "        self.data = dataframe\n",
        "        \n",
        "    def __getitem__(self, index):\n",
        "        text = self.data.text[index]\n",
        "        label = self.data.label[index]\n",
        "        X, _  = prepare_features(text)\n",
        "        y = label_to_ix[self.data.label[index]]\n",
        "        return X, y\n",
        "    \n",
        "    def __len__(self):\n",
        "        return self.len"
      ],
      "execution_count": 0,
      "outputs": []
    },
    {
      "cell_type": "code",
      "metadata": {
        "id": "JhI0NdBkucdZ",
        "colab_type": "code",
        "colab": {}
      },
      "source": [
        ""
      ],
      "execution_count": 0,
      "outputs": []
    },
    {
      "cell_type": "code",
      "metadata": {
        "id": "4E0NnndseQo-",
        "colab_type": "code",
        "colab": {}
      },
      "source": [
        "train_size = 0.8\n",
        "train_dataset=train_df.sample(frac=train_size,random_state=200).reset_index(drop=True)\n",
        "test_dataset=train_df.drop(train_dataset.index).reset_index(drop=True)"
      ],
      "execution_count": 0,
      "outputs": []
    },
    {
      "cell_type": "code",
      "metadata": {
        "id": "BTRTXR3EeYky",
        "colab_type": "code",
        "outputId": "97655f42-d945-43db-a398-ef974e358f17",
        "colab": {
          "base_uri": "https://localhost:8080/",
          "height": 68
        }
      },
      "source": [
        "print(\"FULL Dataset: {}\".format(train_df.shape))\n",
        "print(\"TRAIN Dataset: {}\".format(train_dataset.shape))\n",
        "print(\"TEST Dataset: {}\".format(test_dataset.shape))"
      ],
      "execution_count": 0,
      "outputs": [
        {
          "output_type": "stream",
          "text": [
            "FULL Dataset: (15001, 2)\n",
            "TRAIN Dataset: (12001, 2)\n",
            "TEST Dataset: (3000, 2)\n"
          ],
          "name": "stdout"
        }
      ]
    },
    {
      "cell_type": "code",
      "metadata": {
        "id": "5swkB2zde0Tl",
        "colab_type": "code",
        "colab": {}
      },
      "source": [
        "training_set = Intents(train_dataset)\n",
        "testing_set = Intents(test_dataset)"
      ],
      "execution_count": 0,
      "outputs": []
    },
    {
      "cell_type": "code",
      "metadata": {
        "id": "_6y2EIezhR33",
        "colab_type": "code",
        "colab": {}
      },
      "source": [
        "device = torch.device(\"cuda\" if torch.cuda.is_available() else \"cpu\")\n",
        "model = model.cuda()"
      ],
      "execution_count": 0,
      "outputs": []
    },
    {
      "cell_type": "code",
      "metadata": {
        "id": "jokiiPoQhUdo",
        "colab_type": "code",
        "colab": {}
      },
      "source": [
        "# Parameters\n",
        "params = {'batch_size': 1,\n",
        "          'shuffle': True,\n",
        "          'drop_last': False,\n",
        "          'num_workers': 1}"
      ],
      "execution_count": 0,
      "outputs": []
    },
    {
      "cell_type": "code",
      "metadata": {
        "id": "A_PATK2Ee2oR",
        "colab_type": "code",
        "colab": {}
      },
      "source": [
        "training_loader = DataLoader(training_set, **params)\n",
        "testing_loader = DataLoader(testing_set, **params)"
      ],
      "execution_count": 0,
      "outputs": []
    },
    {
      "cell_type": "code",
      "metadata": {
        "id": "fQhlC2V8hadp",
        "colab_type": "code",
        "colab": {}
      },
      "source": [
        "loss_function = nn.CrossEntropyLoss()\n",
        "learning_rate = 1e-05\n",
        "optimizer = optim.Adam(params =  model.parameters(), lr=learning_rate)"
      ],
      "execution_count": 0,
      "outputs": []
    },
    {
      "cell_type": "code",
      "metadata": {
        "id": "MjfWSqUKhccA",
        "colab_type": "code",
        "outputId": "d1606f56-166c-4f2a-b3f3-4f9a75e31f53",
        "colab": {
          "base_uri": "https://localhost:8080/",
          "height": 1000,
          "referenced_widgets": [
            "2d2a19033159436088e012fb6a5175f7",
            "1208726c82714686866cc122a3da723d",
            "c2ef9ae564a34194a0ed5672339c1a49",
            "9704d1aa759846b0bf48dc417d2fc3e8",
            "99b0a8a124c8475c87338691571ca799",
            "b4849ce71ae64b728a356bdf9f67fa83",
            "f1d35695968745be96b4320a1e25457d",
            "defd1ca00b9746ba857bec0540b7f43f"
          ]
        }
      },
      "source": [
        "max_epochs = 2\n",
        "model = model.train()\n",
        "for epoch in tqdm_notebook(range(max_epochs)):\n",
        "    print(\"EPOCH -- {}\".format(epoch))\n",
        "    for i, (sent, label) in enumerate(training_loader):\n",
        "        optimizer.zero_grad()\n",
        "        sent = sent.squeeze(0)\n",
        "        if torch.cuda.is_available():\n",
        "          sent = sent.cuda()\n",
        "          label = label.cuda()\n",
        "        output = model.forward(sent)[0]\n",
        "        _, predicted = torch.max(output, 1)\n",
        "        \n",
        "        loss = loss_function(output, label)\n",
        "        loss.backward()\n",
        "        optimizer.step()\n",
        "        \n",
        "        if i%100 == 0:\n",
        "            correct = 0\n",
        "            total = 0\n",
        "            for sent, label in testing_loader:\n",
        "                sent = sent.squeeze(0)\n",
        "                if torch.cuda.is_available():\n",
        "                  sent = sent.cuda()\n",
        "                  label = label.cuda()\n",
        "                output = model.forward(sent)[0]\n",
        "                _, predicted = torch.max(output.data, 1)\n",
        "                total += label.size(0)\n",
        "                correct += (predicted.cpu() == label.cpu()).sum()\n",
        "            accuracy = 100.00 * correct.numpy() / total\n",
        "            print('Iteration: {}. Loss: {}. Accuracy: {}%'.format(i, loss.item(), accuracy))"
      ],
      "execution_count": 0,
      "outputs": [
        {
          "output_type": "display_data",
          "data": {
            "application/vnd.jupyter.widget-view+json": {
              "model_id": "2d2a19033159436088e012fb6a5175f7",
              "version_minor": 0,
              "version_major": 2
            },
            "text/plain": [
              "HBox(children=(IntProgress(value=0, max=2), HTML(value='')))"
            ]
          },
          "metadata": {
            "tags": []
          }
        },
        {
          "output_type": "stream",
          "text": [
            "EPOCH -- 0\n",
            "Iteration: 0. Loss: 2.8632616996765137. Accuracy: 20.066666666666666%\n",
            "Iteration: 100. Loss: 1.7736173868179321. Accuracy: 27.6%\n",
            "Iteration: 200. Loss: 2.2238197326660156. Accuracy: 27.6%\n",
            "Iteration: 300. Loss: 3.974430799484253. Accuracy: 20.066666666666666%\n",
            "Iteration: 400. Loss: 2.894787311553955. Accuracy: 23.866666666666667%\n",
            "Iteration: 500. Loss: 2.4232242107391357. Accuracy: 27.5%\n",
            "Iteration: 600. Loss: 2.4755992889404297. Accuracy: 20.033333333333335%\n",
            "Iteration: 700. Loss: 2.3641247749328613. Accuracy: 20.1%\n",
            "Iteration: 800. Loss: 0.9782440662384033. Accuracy: 27.5%\n",
            "Iteration: 900. Loss: 1.568459153175354. Accuracy: 26.6%\n",
            "Iteration: 1000. Loss: 1.4331138134002686. Accuracy: 24.766666666666666%\n",
            "Iteration: 1100. Loss: 1.646653175354004. Accuracy: 21.933333333333334%\n",
            "Iteration: 1200. Loss: 2.416796922683716. Accuracy: 25.366666666666667%\n",
            "Iteration: 1300. Loss: 2.121382236480713. Accuracy: 21.933333333333334%\n",
            "Iteration: 1400. Loss: 3.5293238162994385. Accuracy: 27.633333333333333%\n",
            "Iteration: 1500. Loss: 1.9389251470565796. Accuracy: 27.333333333333332%\n",
            "Iteration: 1600. Loss: 1.3096503019332886. Accuracy: 27.666666666666668%\n",
            "Iteration: 1700. Loss: 2.6071317195892334. Accuracy: 25.533333333333335%\n",
            "Iteration: 1800. Loss: 1.687085747718811. Accuracy: 22.733333333333334%\n",
            "Iteration: 1900. Loss: 1.7407972812652588. Accuracy: 27.666666666666668%\n",
            "Iteration: 2000. Loss: 1.9828746318817139. Accuracy: 26.666666666666668%\n",
            "Iteration: 2100. Loss: 1.6274940967559814. Accuracy: 25.3%\n",
            "Iteration: 2200. Loss: 3.738690137863159. Accuracy: 25.233333333333334%\n",
            "Iteration: 2300. Loss: 1.3234012126922607. Accuracy: 28.3%\n",
            "Iteration: 2400. Loss: 1.7993718385696411. Accuracy: 28.366666666666667%\n",
            "Iteration: 2500. Loss: 2.0292348861694336. Accuracy: 33.1%\n",
            "Iteration: 2600. Loss: 1.4790700674057007. Accuracy: 31.4%\n",
            "Iteration: 2700. Loss: 1.5812888145446777. Accuracy: 29.566666666666666%\n",
            "Iteration: 2800. Loss: 0.698542594909668. Accuracy: 34.93333333333333%\n",
            "Iteration: 2900. Loss: 1.7766062021255493. Accuracy: 31.833333333333332%\n",
            "Iteration: 3000. Loss: 0.9040200710296631. Accuracy: 25.3%\n",
            "Iteration: 3100. Loss: 1.2676808834075928. Accuracy: 36.03333333333333%\n",
            "Iteration: 3200. Loss: 2.196643829345703. Accuracy: 35.56666666666667%\n",
            "Iteration: 3300. Loss: 1.714719295501709. Accuracy: 36.666666666666664%\n",
            "Iteration: 3400. Loss: 1.4847744703292847. Accuracy: 37.666666666666664%\n",
            "Iteration: 3500. Loss: 1.162062168121338. Accuracy: 37.9%\n",
            "Iteration: 3600. Loss: 2.1785407066345215. Accuracy: 35.733333333333334%\n",
            "Iteration: 3700. Loss: 1.1714930534362793. Accuracy: 36.4%\n",
            "Iteration: 3800. Loss: 0.6539602279663086. Accuracy: 36.833333333333336%\n",
            "Iteration: 3900. Loss: 0.7107100486755371. Accuracy: 37.266666666666666%\n",
            "Iteration: 4000. Loss: 1.5913783311843872. Accuracy: 37.53333333333333%\n",
            "Iteration: 4100. Loss: 0.6910641193389893. Accuracy: 38.1%\n",
            "Iteration: 4200. Loss: 4.449202537536621. Accuracy: 39.1%\n",
            "Iteration: 4300. Loss: 2.243368148803711. Accuracy: 37.9%\n",
            "Iteration: 4400. Loss: 1.734370470046997. Accuracy: 38.96666666666667%\n",
            "Iteration: 4500. Loss: 1.129382848739624. Accuracy: 28.566666666666666%\n",
            "Iteration: 4600. Loss: 2.3804919719696045. Accuracy: 39.1%\n",
            "Iteration: 4700. Loss: 0.8660690784454346. Accuracy: 39.233333333333334%\n",
            "Iteration: 4800. Loss: 1.1554076671600342. Accuracy: 39.56666666666667%\n",
            "Iteration: 4900. Loss: 0.5844464302062988. Accuracy: 39.166666666666664%\n",
            "Iteration: 5000. Loss: 1.0815210342407227. Accuracy: 39.53333333333333%\n",
            "Iteration: 5100. Loss: 2.1684229373931885. Accuracy: 38.86666666666667%\n",
            "Iteration: 5200. Loss: 3.5648951530456543. Accuracy: 39.766666666666666%\n",
            "Iteration: 5300. Loss: 0.5806515216827393. Accuracy: 39.3%\n",
            "Iteration: 5400. Loss: 0.18824195861816406. Accuracy: 39.93333333333333%\n",
            "Iteration: 5500. Loss: 3.441312551498413. Accuracy: 41.5%\n",
            "Iteration: 5600. Loss: 2.1345791816711426. Accuracy: 39.9%\n",
            "Iteration: 5700. Loss: 2.3252322673797607. Accuracy: 39.733333333333334%\n",
            "Iteration: 5800. Loss: 1.936169981956482. Accuracy: 39.0%\n",
            "Iteration: 5900. Loss: 1.1198852062225342. Accuracy: 42.56666666666667%\n",
            "Iteration: 6000. Loss: 1.5475667715072632. Accuracy: 42.233333333333334%\n",
            "Iteration: 6100. Loss: 2.064601421356201. Accuracy: 39.36666666666667%\n",
            "Iteration: 6200. Loss: 3.7196595668792725. Accuracy: 38.766666666666666%\n",
            "Iteration: 6300. Loss: 0.8928601741790771. Accuracy: 37.53333333333333%\n",
            "Iteration: 6400. Loss: 1.938144564628601. Accuracy: 40.03333333333333%\n",
            "Iteration: 6500. Loss: 1.5454787015914917. Accuracy: 43.6%\n",
            "Iteration: 6600. Loss: 0.8895502090454102. Accuracy: 42.5%\n",
            "Iteration: 6700. Loss: 0.46680736541748047. Accuracy: 42.96666666666667%\n",
            "Iteration: 6800. Loss: 2.198272705078125. Accuracy: 41.46666666666667%\n",
            "Iteration: 6900. Loss: 0.8959147930145264. Accuracy: 42.4%\n",
            "Iteration: 7000. Loss: 1.0420477390289307. Accuracy: 37.166666666666664%\n",
            "Iteration: 7100. Loss: 1.0811741352081299. Accuracy: 43.733333333333334%\n",
            "Iteration: 7200. Loss: 2.4057044982910156. Accuracy: 44.2%\n",
            "Iteration: 7300. Loss: 2.0723986625671387. Accuracy: 43.766666666666666%\n",
            "Iteration: 7400. Loss: 2.4566843509674072. Accuracy: 43.233333333333334%\n",
            "Iteration: 7500. Loss: 2.491532802581787. Accuracy: 44.56666666666667%\n",
            "Iteration: 7600. Loss: 1.001267433166504. Accuracy: 42.5%\n",
            "Iteration: 7700. Loss: 0.7560863494873047. Accuracy: 44.93333333333333%\n",
            "Iteration: 7800. Loss: 2.6561524868011475. Accuracy: 44.06666666666667%\n",
            "Iteration: 7900. Loss: 1.7350819110870361. Accuracy: 44.06666666666667%\n",
            "Iteration: 8000. Loss: 0.9863958358764648. Accuracy: 43.93333333333333%\n",
            "Iteration: 8100. Loss: 4.492142677307129. Accuracy: 41.266666666666666%\n",
            "Iteration: 8200. Loss: 0.7375349998474121. Accuracy: 44.43333333333333%\n",
            "Iteration: 8300. Loss: 0.37856483459472656. Accuracy: 44.9%\n",
            "Iteration: 8400. Loss: 3.58282732963562. Accuracy: 40.8%\n",
            "Iteration: 8500. Loss: 0.27642345428466797. Accuracy: 45.86666666666667%\n",
            "Iteration: 8600. Loss: 1.520535945892334. Accuracy: 39.43333333333333%\n",
            "Iteration: 8700. Loss: 3.033590078353882. Accuracy: 43.13333333333333%\n",
            "Iteration: 8800. Loss: 2.756690740585327. Accuracy: 44.13333333333333%\n",
            "Iteration: 8900. Loss: 1.1602659225463867. Accuracy: 42.666666666666664%\n",
            "Iteration: 9000. Loss: 1.34935462474823. Accuracy: 45.86666666666667%\n",
            "Iteration: 9100. Loss: 1.2119102478027344. Accuracy: 45.666666666666664%\n",
            "Iteration: 9200. Loss: 0.7817888259887695. Accuracy: 47.3%\n",
            "Iteration: 9300. Loss: 0.6694893836975098. Accuracy: 44.03333333333333%\n",
            "Iteration: 9400. Loss: 0.7774181365966797. Accuracy: 44.333333333333336%\n",
            "Iteration: 9500. Loss: 1.8523528575897217. Accuracy: 49.43333333333333%\n",
            "Iteration: 9600. Loss: 1.18510103225708. Accuracy: 47.46666666666667%\n",
            "Iteration: 9700. Loss: 0.7398810386657715. Accuracy: 44.13333333333333%\n",
            "Iteration: 9800. Loss: 3.57973313331604. Accuracy: 47.4%\n",
            "Iteration: 9900. Loss: 0.26273441314697266. Accuracy: 49.03333333333333%\n",
            "Iteration: 10000. Loss: 0.6110618114471436. Accuracy: 49.36666666666667%\n",
            "Iteration: 10100. Loss: 1.8013561964035034. Accuracy: 47.03333333333333%\n",
            "Iteration: 10200. Loss: 2.1027956008911133. Accuracy: 47.3%\n",
            "Iteration: 10300. Loss: 3.200472593307495. Accuracy: 49.4%\n",
            "Iteration: 10400. Loss: 1.0606977939605713. Accuracy: 50.666666666666664%\n",
            "Iteration: 10500. Loss: 1.6792895793914795. Accuracy: 49.6%\n",
            "Iteration: 10600. Loss: 0.41890597343444824. Accuracy: 47.2%\n",
            "Iteration: 10700. Loss: 0.9029603004455566. Accuracy: 51.166666666666664%\n",
            "Iteration: 10800. Loss: 0.45979833602905273. Accuracy: 51.06666666666667%\n",
            "Iteration: 10900. Loss: 1.3620944023132324. Accuracy: 47.0%\n",
            "Iteration: 11000. Loss: 2.2227249145507812. Accuracy: 51.46666666666667%\n",
            "Iteration: 11100. Loss: 1.1576006412506104. Accuracy: 48.8%\n",
            "Iteration: 11200. Loss: 0.14847373962402344. Accuracy: 51.9%\n",
            "Iteration: 11300. Loss: 2.9268741607666016. Accuracy: 50.833333333333336%\n",
            "Iteration: 11400. Loss: 0.3833141326904297. Accuracy: 51.833333333333336%\n",
            "Iteration: 11500. Loss: 0.4488992691040039. Accuracy: 48.93333333333333%\n",
            "Iteration: 11600. Loss: 5.194654941558838. Accuracy: 50.7%\n",
            "Iteration: 11700. Loss: 3.097148895263672. Accuracy: 53.7%\n",
            "Iteration: 11800. Loss: 1.397856593132019. Accuracy: 51.6%\n",
            "Iteration: 11900. Loss: 0.3122439384460449. Accuracy: 50.266666666666666%\n",
            "Iteration: 12000. Loss: 0.23125195503234863. Accuracy: 51.666666666666664%\n",
            "EPOCH -- 1\n",
            "Iteration: 0. Loss: 4.652836322784424. Accuracy: 51.833333333333336%\n",
            "Iteration: 100. Loss: 2.2164359092712402. Accuracy: 45.233333333333334%\n",
            "Iteration: 200. Loss: 1.790970802307129. Accuracy: 50.86666666666667%\n",
            "Iteration: 300. Loss: 2.0491302013397217. Accuracy: 52.46666666666667%\n",
            "Iteration: 400. Loss: 0.1033792495727539. Accuracy: 53.333333333333336%\n",
            "Iteration: 500. Loss: 2.5165395736694336. Accuracy: 52.766666666666666%\n",
            "Iteration: 600. Loss: 2.5029377937316895. Accuracy: 51.63333333333333%\n",
            "Iteration: 700. Loss: 1.8382091522216797. Accuracy: 52.333333333333336%\n",
            "Iteration: 800. Loss: 2.1352429389953613. Accuracy: 48.4%\n",
            "Iteration: 900. Loss: 0.4884366989135742. Accuracy: 51.56666666666667%\n",
            "Iteration: 1000. Loss: 0.2735719680786133. Accuracy: 52.36666666666667%\n",
            "Iteration: 1100. Loss: 0.2734718322753906. Accuracy: 54.03333333333333%\n",
            "Iteration: 1200. Loss: 0.7571043968200684. Accuracy: 51.46666666666667%\n",
            "Iteration: 1300. Loss: 2.0753936767578125. Accuracy: 54.1%\n",
            "Iteration: 1400. Loss: 0.31508588790893555. Accuracy: 52.13333333333333%\n",
            "Iteration: 1500. Loss: 0.23506402969360352. Accuracy: 49.96666666666667%\n",
            "Iteration: 1600. Loss: 1.8189678192138672. Accuracy: 54.166666666666664%\n",
            "Iteration: 1700. Loss: 0.16669845581054688. Accuracy: 54.06666666666667%\n",
            "Iteration: 1800. Loss: 0.0972447395324707. Accuracy: 52.13333333333333%\n",
            "Iteration: 1900. Loss: 1.5059788227081299. Accuracy: 52.266666666666666%\n",
            "Iteration: 2000. Loss: 0.1270914077758789. Accuracy: 52.266666666666666%\n",
            "Iteration: 2100. Loss: 0.4332122802734375. Accuracy: 53.4%\n",
            "Iteration: 2200. Loss: 4.030825138092041. Accuracy: 50.733333333333334%\n",
            "Iteration: 2300. Loss: 1.9005112648010254. Accuracy: 53.666666666666664%\n",
            "Iteration: 2400. Loss: 2.578690528869629. Accuracy: 52.06666666666667%\n",
            "Iteration: 2500. Loss: 0.39407873153686523. Accuracy: 54.833333333333336%\n",
            "Iteration: 2600. Loss: 1.3740909099578857. Accuracy: 50.1%\n",
            "Iteration: 2700. Loss: 0.552565336227417. Accuracy: 55.4%\n",
            "Iteration: 2800. Loss: 0.296720027923584. Accuracy: 53.733333333333334%\n",
            "Iteration: 2900. Loss: 2.6158363819122314. Accuracy: 54.266666666666666%\n",
            "Iteration: 3000. Loss: 1.6146891117095947. Accuracy: 53.266666666666666%\n",
            "Iteration: 3100. Loss: 3.7360188961029053. Accuracy: 55.13333333333333%\n",
            "Iteration: 3200. Loss: 1.4299802780151367. Accuracy: 55.3%\n",
            "Iteration: 3300. Loss: 0.9736588001251221. Accuracy: 53.96666666666667%\n",
            "Iteration: 3400. Loss: 5.007962703704834. Accuracy: 56.4%\n",
            "Iteration: 3500. Loss: 0.2759060859680176. Accuracy: 46.833333333333336%\n",
            "Iteration: 3600. Loss: 4.037172317504883. Accuracy: 53.833333333333336%\n",
            "Iteration: 3700. Loss: 2.3490734100341797. Accuracy: 55.7%\n",
            "Iteration: 3800. Loss: 4.711368083953857. Accuracy: 52.7%\n",
            "Iteration: 3900. Loss: 0.2731032371520996. Accuracy: 55.766666666666666%\n",
            "Iteration: 4000. Loss: 0.13617515563964844. Accuracy: 56.6%\n",
            "Iteration: 4100. Loss: 1.1122159957885742. Accuracy: 56.03333333333333%\n",
            "Iteration: 4200. Loss: 1.9686174392700195. Accuracy: 53.4%\n",
            "Iteration: 4300. Loss: 0.5766117572784424. Accuracy: 55.36666666666667%\n",
            "Iteration: 4400. Loss: 6.789803981781006. Accuracy: 45.93333333333333%\n",
            "Iteration: 4500. Loss: 0.1284465789794922. Accuracy: 54.6%\n",
            "Iteration: 4600. Loss: 4.826600551605225. Accuracy: 56.0%\n",
            "Iteration: 4700. Loss: 3.315305233001709. Accuracy: 54.766666666666666%\n",
            "Iteration: 4800. Loss: 0.288114070892334. Accuracy: 57.333333333333336%\n",
            "Iteration: 4900. Loss: 3.436131000518799. Accuracy: 47.733333333333334%\n",
            "Iteration: 5000. Loss: 1.1088900566101074. Accuracy: 55.56666666666667%\n",
            "Iteration: 5100. Loss: 2.1298656463623047. Accuracy: 56.53333333333333%\n",
            "Iteration: 5200. Loss: 0.08954048156738281. Accuracy: 55.5%\n",
            "Iteration: 5300. Loss: 4.150806427001953. Accuracy: 56.6%\n",
            "Iteration: 5400. Loss: 2.4500107765197754. Accuracy: 54.666666666666664%\n",
            "Iteration: 5500. Loss: 1.3505172729492188. Accuracy: 56.1%\n",
            "Iteration: 5600. Loss: 2.8591699600219727. Accuracy: 58.7%\n",
            "Iteration: 5700. Loss: 0.4657723903656006. Accuracy: 55.93333333333333%\n",
            "Iteration: 5800. Loss: 1.580806851387024. Accuracy: 52.666666666666664%\n",
            "Iteration: 5900. Loss: 0.2360086441040039. Accuracy: 56.266666666666666%\n",
            "Iteration: 6000. Loss: 0.21495532989501953. Accuracy: 56.833333333333336%\n",
            "Iteration: 6100. Loss: 3.197690963745117. Accuracy: 58.03333333333333%\n",
            "Iteration: 6200. Loss: 0.25063657760620117. Accuracy: 58.166666666666664%\n",
            "Iteration: 6300. Loss: 1.351315975189209. Accuracy: 57.5%\n",
            "Iteration: 6400. Loss: 0.31394481658935547. Accuracy: 57.0%\n",
            "Iteration: 6500. Loss: 3.441329002380371. Accuracy: 57.666666666666664%\n",
            "Iteration: 6600. Loss: 0.7818984985351562. Accuracy: 55.733333333333334%\n",
            "Iteration: 6700. Loss: 1.3834218978881836. Accuracy: 59.36666666666667%\n",
            "Iteration: 6800. Loss: 1.2466540336608887. Accuracy: 58.266666666666666%\n",
            "Iteration: 6900. Loss: 2.543747901916504. Accuracy: 59.6%\n",
            "Iteration: 7000. Loss: 2.453888416290283. Accuracy: 58.333333333333336%\n",
            "Iteration: 7100. Loss: 0.23359394073486328. Accuracy: 59.233333333333334%\n",
            "Iteration: 7200. Loss: 0.2278614044189453. Accuracy: 56.36666666666667%\n",
            "Iteration: 7300. Loss: 0.3318490982055664. Accuracy: 59.833333333333336%\n",
            "Iteration: 7400. Loss: 2.191124677658081. Accuracy: 59.7%\n",
            "Iteration: 7500. Loss: 2.6566267013549805. Accuracy: 54.0%\n",
            "Iteration: 7600. Loss: 0.15322113037109375. Accuracy: 57.833333333333336%\n",
            "Iteration: 7700. Loss: 4.109782695770264. Accuracy: 57.6%\n",
            "Iteration: 7800. Loss: 1.4077987670898438. Accuracy: 59.13333333333333%\n",
            "Iteration: 7900. Loss: 0.14521074295043945. Accuracy: 58.43333333333333%\n",
            "Iteration: 8000. Loss: 2.5335922241210938. Accuracy: 59.56666666666667%\n",
            "Iteration: 8100. Loss: 6.174643516540527. Accuracy: 58.6%\n",
            "Iteration: 8200. Loss: 0.29770469665527344. Accuracy: 58.833333333333336%\n",
            "Iteration: 8300. Loss: 0.14583683013916016. Accuracy: 59.333333333333336%\n",
            "Iteration: 8400. Loss: 1.972764015197754. Accuracy: 59.93333333333333%\n",
            "Iteration: 8500. Loss: 1.2246460914611816. Accuracy: 58.13333333333333%\n",
            "Iteration: 8600. Loss: 1.2289066314697266. Accuracy: 57.46666666666667%\n",
            "Iteration: 8700. Loss: 0.29027771949768066. Accuracy: 56.03333333333333%\n",
            "Iteration: 8800. Loss: 0.07895326614379883. Accuracy: 59.86666666666667%\n",
            "Iteration: 8900. Loss: 2.282561779022217. Accuracy: 58.5%\n",
            "Iteration: 9000. Loss: 0.14926385879516602. Accuracy: 59.2%\n",
            "Iteration: 9100. Loss: 0.3880805969238281. Accuracy: 59.266666666666666%\n",
            "Iteration: 9200. Loss: 0.3766026496887207. Accuracy: 60.2%\n",
            "Iteration: 9300. Loss: 1.652477502822876. Accuracy: 60.833333333333336%\n",
            "Iteration: 9400. Loss: 3.169586181640625. Accuracy: 60.7%\n",
            "Iteration: 9500. Loss: 5.696990966796875. Accuracy: 58.166666666666664%\n",
            "Iteration: 9600. Loss: 0.0883646011352539. Accuracy: 59.5%\n",
            "Iteration: 9700. Loss: 0.08280038833618164. Accuracy: 59.266666666666666%\n",
            "Iteration: 9800. Loss: 0.39768004417419434. Accuracy: 60.1%\n",
            "Iteration: 9900. Loss: 0.3016982078552246. Accuracy: 60.766666666666666%\n",
            "Iteration: 10000. Loss: 2.076786756515503. Accuracy: 60.36666666666667%\n",
            "Iteration: 10100. Loss: 5.193848609924316. Accuracy: 58.3%\n",
            "Iteration: 10200. Loss: 0.06196737289428711. Accuracy: 60.46666666666667%\n",
            "Iteration: 10300. Loss: 2.402583599090576. Accuracy: 52.63333333333333%\n",
            "Iteration: 10400. Loss: 0.18408727645874023. Accuracy: 60.06666666666667%\n",
            "Iteration: 10500. Loss: 4.540968418121338. Accuracy: 57.53333333333333%\n",
            "Iteration: 10600. Loss: 2.8502039909362793. Accuracy: 54.9%\n",
            "Iteration: 10700. Loss: 1.870213270187378. Accuracy: 60.233333333333334%\n",
            "Iteration: 10800. Loss: 2.6161820888519287. Accuracy: 60.63333333333333%\n",
            "Iteration: 10900. Loss: 2.211261510848999. Accuracy: 59.8%\n",
            "Iteration: 11000. Loss: 0.0694570541381836. Accuracy: 62.06666666666667%\n",
            "Iteration: 11100. Loss: 0.07755374908447266. Accuracy: 59.8%\n",
            "Iteration: 11200. Loss: 0.058023929595947266. Accuracy: 58.6%\n",
            "Iteration: 11300. Loss: 2.5076916217803955. Accuracy: 61.8%\n",
            "Iteration: 11400. Loss: 3.9381518363952637. Accuracy: 59.4%\n",
            "Iteration: 11500. Loss: 0.30477094650268555. Accuracy: 58.733333333333334%\n",
            "Iteration: 11600. Loss: 1.0607073307037354. Accuracy: 61.2%\n",
            "Iteration: 11700. Loss: 0.4877777099609375. Accuracy: 61.9%\n",
            "Iteration: 11800. Loss: 3.947721004486084. Accuracy: 60.5%\n",
            "Iteration: 11900. Loss: 0.07820415496826172. Accuracy: 60.63333333333333%\n",
            "Iteration: 12000. Loss: 0.1961822509765625. Accuracy: 60.733333333333334%\n",
            "\n"
          ],
          "name": "stdout"
        }
      ]
    },
    {
      "cell_type": "code",
      "metadata": {
        "id": "yNfquQzyT_sl",
        "colab_type": "code",
        "colab": {}
      },
      "source": [
        ""
      ],
      "execution_count": 0,
      "outputs": []
    },
    {
      "cell_type": "code",
      "metadata": {
        "id": "AUJIKtiINAHb",
        "colab_type": "code",
        "colab": {}
      },
      "source": [
        "def get_reply(msg):\n",
        "  model.eval()\n",
        "  input_msg, _ = prepare_features(msg)\n",
        "  if torch.cuda.is_available():\n",
        "    input_msg = input_msg.cuda()\n",
        "  output = model(input_msg)[0]\n",
        "  _, pred_label = torch.max(output.data, 1)\n",
        "  prediction=list(label_to_ix.keys())[pred_label]\n",
        "  return prediction"
      ],
      "execution_count": 0,
      "outputs": []
    },
    {
      "cell_type": "markdown",
      "metadata": {
        "id": "1zrUBxXuDmI4",
        "colab_type": "text"
      },
      "source": [
        ""
      ]
    },
    {
      "cell_type": "code",
      "metadata": {
        "id": "o6aUVghaxyox",
        "colab_type": "code",
        "outputId": "9367536c-b255-4271-975c-873dfa0aa38b",
        "colab": {
          "base_uri": "https://localhost:8080/",
          "height": 34
        }
      },
      "source": [
        "get_reply(\"I noticed that I had an inquiry from this company on my credit report. I contacted the company and they couldn't not provide any information via phone, so I dated a letter to Transunion requesting the inquiry be removed or validation be provided. I received a letter from XXXX XXXX dated XX/XX/XXXX stating that they has validated the inquiry but DID NOT provide a contract, application nor a signature giving them ANY authorization to do a hard a inquiry on my credit on XX/XX/XXXX. I called XXXX XXXX  on XX/XX/XXXX and spoke with a representative  XXXX Employee ID XXXX and she confirmed that the inquiry was inaccurate and would be removed and I would receive a letter within 5-7 business days as they COULD NOT find an account, file not contact that I signed for credit and the inquiry would be removed within 30 days. That has yet to happen. On XX/XX/XXXX I sent a SECOND request to TransUnion and XXXX XXXX. I received yet another response from XXXX XXXX stating that I had applied for credit but they had failed to provide proof of such information. There wasn't a response from TransUnion.\")"
      ],
      "execution_count": 0,
      "outputs": [
        {
          "output_type": "execute_result",
          "data": {
            "text/plain": [
              "'Credit reporting, credit repair services, or other personal consumer reports'"
            ]
          },
          "metadata": {
            "tags": []
          },
          "execution_count": 57
        }
      ]
    },
    {
      "cell_type": "code",
      "metadata": {
        "id": "_H8tKfDm-dy9",
        "colab_type": "code",
        "outputId": "f0414e6f-2eac-461c-9d05-15501ba74ac3",
        "colab": {
          "base_uri": "https://localhost:8080/",
          "height": 34
        }
      },
      "source": [
        "get_reply(\"I have faxed several mortgage modifications with financials to my mortgage company Penney Mac. My income was reduced when I became XXXX, Penney Mac doesn't want to work with me to reduce my mortgage payment. My attorney has filed and injunction to stop them from foreclosing on my home. A foreclosure property sale is set for my property XX/XX/2018 and there is a restraining order in place to stop the property foreclosure sale. Penney Mac is discriminating against me and they refuse to respect consumer rights and federal guidelines\")"
      ],
      "execution_count": 0,
      "outputs": [
        {
          "output_type": "execute_result",
          "data": {
            "text/plain": [
              "'Mortgage'"
            ]
          },
          "metadata": {
            "tags": []
          },
          "execution_count": 58
        }
      ]
    },
    {
      "cell_type": "code",
      "metadata": {
        "colab_type": "code",
        "id": "sZUky_TU-eMd",
        "outputId": "1ca58e0a-0749-40a0-8631-c94f5cba4f54",
        "colab": {
          "base_uri": "https://localhost:8080/",
          "height": 34
        }
      },
      "source": [
        "get_reply(\"lost job late mortgage payments want work suitable solution bank bank sent packet completed returned approximately later received notice submission incomplete needed resubmit certain documents faxed docs number listed another weeks passed received document taped front door saying home scheduled sheriffs sale looking opportunity solve issue include selling home necessary need speak someone ability delay sale work resolution good faith thank\")"
      ],
      "execution_count": 0,
      "outputs": [
        {
          "output_type": "execute_result",
          "data": {
            "text/plain": [
              "'Mortgage'"
            ]
          },
          "metadata": {
            "tags": []
          },
          "execution_count": 59
        }
      ]
    },
    {
      "cell_type": "code",
      "metadata": {
        "id": "FVh8MUiwOkcV",
        "colab_type": "code",
        "outputId": "5d799988-3390-47e5-d3c5-d34824922c40",
        "colab": {
          "base_uri": "https://localhost:8080/",
          "height": 34
        }
      },
      "source": [
        "get_reply(\"submitted dispute regarding old account appearing past statue limitations fcra law requires accounts past years deleted rpeoterd asked companies delete illegal accounts gotten response besides general working disputing account many months defeated getting bureaus ignoring prolonging removal account credit reports patient contacting attorney dispute goes ignored attached derogatory account ink question please see disputes response make sense accounts never indicated disputed plus days patiently waiting going please respond delete account immediately\")"
      ],
      "execution_count": 0,
      "outputs": [
        {
          "output_type": "execute_result",
          "data": {
            "text/plain": [
              "'Credit reporting, credit repair services, or other personal consumer reports'"
            ]
          },
          "metadata": {
            "tags": []
          },
          "execution_count": 60
        }
      ]
    },
    {
      "cell_type": "code",
      "metadata": {
        "id": "4ZM_-HebO-Ca",
        "colab_type": "code",
        "outputId": "fd5dae12-33f5-4326-ccef-cf954d9f430f",
        "colab": {
          "base_uri": "https://localhost:8080/",
          "height": 34
        }
      },
      "source": [
        "get_reply(\"judgement made county court common pleas collection agency involved reimer law company working behalf amount stated original order currently stated wage garnishment order felt strange wage garnishment would take effect five years went court system looked found cfpb proposed consent judgement currently wages garnished garnishment decided three years prior cfpbs opinion would like matter looked outside source\")"
      ],
      "execution_count": 0,
      "outputs": [
        {
          "output_type": "execute_result",
          "data": {
            "text/plain": [
              "'Debt collection'"
            ]
          },
          "metadata": {
            "tags": []
          },
          "execution_count": 61
        }
      ]
    },
    {
      "cell_type": "code",
      "metadata": {
        "id": "opFVsm39Pp7S",
        "colab_type": "code",
        "outputId": "fd339b71-c475-4660-d3f4-7b332d1577c0",
        "colab": {
          "base_uri": "https://localhost:8080/",
          "height": 34
        }
      },
      "source": [
        "get_reply(\"Wells Fargo Bank is still trying to collected debt that pass the statute of limitation. Wells Fargo is putting false information on my credit report. I am requesting Fargo for name of the person who claim to open account face to face? I feel like Wells Fargo is being discriminated against me because I am XXXX XXXX.\")"
      ],
      "execution_count": 0,
      "outputs": [
        {
          "output_type": "execute_result",
          "data": {
            "text/plain": [
              "'Debt collection'"
            ]
          },
          "metadata": {
            "tags": []
          },
          "execution_count": 62
        }
      ]
    },
    {
      "cell_type": "code",
      "metadata": {
        "id": "nNssf3j3laJE",
        "colab_type": "code",
        "outputId": "9e9830ca-ad8e-4aa7-d10e-d27eb3e7caee",
        "colab": {
          "base_uri": "https://localhost:8080/",
          "height": 34
        }
      },
      "source": [
        "get_reply(\"I'm participating in the Public Debt Forgiveness Program and submitted my first certification form in XX/XX/XXXX. It certified that I've been working that the XXXX XXXX XXXX XXXX, an qualifying XXXX, since XX/XX/XXXX. My loan was transferred from XXXX to XXXX XXXX shortly thereafter. However, my first statement from XXXX indicates that Ive only made 3 qualifying payments toward the PDF program. Before working at this XXXX, I worked for the XXXX XXXX XXXX, and Im working on obtaining certification of that as well. That is a total of 7-8 years of public service. My account should certainly reflect more than 3 qualifying payments.\")"
      ],
      "execution_count": 0,
      "outputs": [
        {
          "output_type": "execute_result",
          "data": {
            "text/plain": [
              "'Student loan'"
            ]
          },
          "metadata": {
            "tags": []
          },
          "execution_count": 63
        }
      ]
    },
    {
      "cell_type": "code",
      "metadata": {
        "id": "NZla4wGn9Idy",
        "colab_type": "code",
        "outputId": "980d1681-b546-4063-ea4b-c5726a95f05a",
        "colab": {
          "base_uri": "https://localhost:8080/",
          "height": 34
        }
      },
      "source": [
        "get_reply(\"Basically I was given a private student loan from Discover of around {$37000.00} for about XXXX semesters ( XXXX summer plus a full year ) of film school with the XXXX XXXX XXXX University. When it came time to get another loan for my second full year of XXXX, Discover informed me that they were no longer doing business with my school and that they would not be able to give me another loan. Because of this, my Dad had to go into debt by getting a parent plus loan for my second year and after that I was unable to continue attending the school. I was able to earn an XXXX degree but not the full XXXX degree. Now I am barely able to find work and I have had to get in even more debt pursuing other degrees to keep from paying back unimaginable loan debt. I do n't mind paying back my federal loans, but my private loan has now soared to more than {$53000.00} ( For ONE year of XXXX ) with current payments of {$570.00} a month. I 'm not sure who ( other than myself ) is more responsible for my current debt, Discover or the XXXX XXXX XXXX University but either way I was duped ( at age XXXX ) into an enormous amount of debt that will be impossible for me to pay off. My biggest concern with Discover is that had my Dad not taken out that additional loan, I would not have been able to do even more than one year of XXXX and how would I be able to pay back anyone without the benefit of an actual degree? This does not seem right and I would simply like a review of both my loan and my former school to determine if any fraud was applied to my situation. Thank you for taking the time to assist me with this matter.\")"
      ],
      "execution_count": 0,
      "outputs": [
        {
          "output_type": "execute_result",
          "data": {
            "text/plain": [
              "'Student loan'"
            ]
          },
          "metadata": {
            "tags": []
          },
          "execution_count": 64
        }
      ]
    }
  ]
}